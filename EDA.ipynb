{
 "cells": [
  {
   "cell_type": "code",
   "execution_count": 26,
   "metadata": {},
   "outputs": [],
   "source": [
    "import os\n",
    "import json\n",
    "import numpy as np\n",
    "import pandas as pd\n",
    "import matplotlib.pyplot as plt"
   ]
  },
  {
   "cell_type": "markdown",
   "metadata": {},
   "source": [
    "### route_highway.txt"
   ]
  },
  {
   "cell_type": "code",
   "execution_count": 27,
   "metadata": {},
   "outputs": [],
   "source": [
    "# route_highway_epoch24_rain-noon_fi_ghost_cutin"
   ]
  },
  {
   "cell_type": "code",
   "execution_count": 28,
   "metadata": {},
   "outputs": [],
   "source": [
    "file_path = os.path.join(\"simulation_results\", \"route_highway_epoch24_rain-noon_fi_ghost_cutin\", \"route_highway.txt\")\n",
    "\n",
    "try:\n",
    "    with open(file_path, 'r', encoding='utf-8') as file:\n",
    "        content = file.read()\n",
    "        data = json.loads(content)  # Parse the JSON data\n",
    "\n",
    "except FileNotFoundError:\n",
    "    print(\"The specified file was not found.\")\n",
    "except json.JSONDecodeError:\n",
    "    print(\"Error in parsing the JSON content.\")\n",
    "except Exception as e:\n",
    "    print(f\"An error occurred: {e}\")\n"
   ]
  },
  {
   "cell_type": "code",
   "execution_count": 29,
   "metadata": {},
   "outputs": [
    {
     "data": {
      "text/plain": [
       "{'_checkpoint': {'global_record': {},\n",
       "  'progress': [0, 1],\n",
       "  'records': [{'index': 0,\n",
       "    'infractions': {'collisions_layout': [],\n",
       "     'collisions_pedestrian': [],\n",
       "     'collisions_vehicle': ['Agent collided against object with type=vehicle.tesla.model3 and id=323 at (x=193.126, y=-22.683, z=0.035)'],\n",
       "     'outside_route_lanes': [],\n",
       "     'red_light': [],\n",
       "     'route_dev': [],\n",
       "     'route_timeout': [],\n",
       "     'stop_infraction': [],\n",
       "     'vehicle_blocked': []},\n",
       "    'meta': {'duration_game': 10.05000014975667,\n",
       "     'duration_system': 26.93295931816101,\n",
       "     'route_length': 131.56012567009267},\n",
       "    'route_id': 'RouteScenario_0',\n",
       "    'scores': {'score_composed': 28.898348248856212,\n",
       "     'score_penalty': 0.6,\n",
       "     'score_route': 48.16391374809369},\n",
       "    'status': 'Failed'}]},\n",
       " 'eligible': False,\n",
       " 'entry_status': 'Started',\n",
       " 'labels': [],\n",
       " 'sensors': ['carla_camera',\n",
       "  'carla_camera',\n",
       "  'carla_camera',\n",
       "  'carla_imu',\n",
       "  'carla_gnss',\n",
       "  'carla_speedometer'],\n",
       " 'values': []}"
      ]
     },
     "execution_count": 29,
     "metadata": {},
     "output_type": "execute_result"
    }
   ],
   "source": [
    "data"
   ]
  },
  {
   "cell_type": "code",
   "execution_count": 30,
   "metadata": {},
   "outputs": [
    {
     "data": {
      "text/html": [
       "<div>\n",
       "<style scoped>\n",
       "    .dataframe tbody tr th:only-of-type {\n",
       "        vertical-align: middle;\n",
       "    }\n",
       "\n",
       "    .dataframe tbody tr th {\n",
       "        vertical-align: top;\n",
       "    }\n",
       "\n",
       "    .dataframe thead th {\n",
       "        text-align: right;\n",
       "    }\n",
       "</style>\n",
       "<table border=\"1\" class=\"dataframe\">\n",
       "  <thead>\n",
       "    <tr style=\"text-align: right;\">\n",
       "      <th></th>\n",
       "      <th>index</th>\n",
       "      <th>infractions</th>\n",
       "      <th>meta</th>\n",
       "      <th>route_id</th>\n",
       "      <th>scores</th>\n",
       "      <th>status</th>\n",
       "    </tr>\n",
       "  </thead>\n",
       "  <tbody>\n",
       "    <tr>\n",
       "      <th>0</th>\n",
       "      <td>0</td>\n",
       "      <td>{'collisions_layout': [], 'collisions_pedestri...</td>\n",
       "      <td>{'duration_game': 10.05000014975667, 'duration...</td>\n",
       "      <td>RouteScenario_0</td>\n",
       "      <td>{'score_composed': 28.898348248856212, 'score_...</td>\n",
       "      <td>Failed</td>\n",
       "    </tr>\n",
       "  </tbody>\n",
       "</table>\n",
       "</div>"
      ],
      "text/plain": [
       "   index                                        infractions   \n",
       "0      0  {'collisions_layout': [], 'collisions_pedestri...  \\\n",
       "\n",
       "                                                meta         route_id   \n",
       "0  {'duration_game': 10.05000014975667, 'duration...  RouteScenario_0  \\\n",
       "\n",
       "                                              scores  status  \n",
       "0  {'score_composed': 28.898348248856212, 'score_...  Failed  "
      ]
     },
     "execution_count": 30,
     "metadata": {},
     "output_type": "execute_result"
    }
   ],
   "source": [
    "records = data[\"_checkpoint\"][\"records\"]\n",
    "df = pd.DataFrame(records)\n",
    "df.head()"
   ]
  },
  {
   "cell_type": "markdown",
   "metadata": {},
   "source": [
    "### _ctl.csv "
   ]
  },
  {
   "cell_type": "code",
   "execution_count": 31,
   "metadata": {},
   "outputs": [
    {
     "data": {
      "text/plain": [
       "(820, 5)"
      ]
     },
     "execution_count": 31,
     "metadata": {},
     "output_type": "execute_result"
    }
   ],
   "source": [
    "file_path = os.path.join(\"simulation_results\",\n",
    "                        \"route_highway_epoch24_clear-night_fi_ghost_cutin\",\n",
    "                        \"routes_fi_route_highway-0910_142625-data_fi_ghost_cutin-single_ctl.csv\")\n",
    "ctl_df = pd.read_csv(file_path)\n",
    "ctl_df.shape"
   ]
  },
  {
   "cell_type": "code",
   "execution_count": 32,
   "metadata": {},
   "outputs": [
    {
     "data": {
      "text/html": [
       "<div>\n",
       "<style scoped>\n",
       "    .dataframe tbody tr th:only-of-type {\n",
       "        vertical-align: middle;\n",
       "    }\n",
       "\n",
       "    .dataframe tbody tr th {\n",
       "        vertical-align: top;\n",
       "    }\n",
       "\n",
       "    .dataframe thead th {\n",
       "        text-align: right;\n",
       "    }\n",
       "</style>\n",
       "<table border=\"1\" class=\"dataframe\">\n",
       "  <thead>\n",
       "    <tr style=\"text-align: right;\">\n",
       "      <th></th>\n",
       "      <th>ts</th>\n",
       "      <th>agent_id</th>\n",
       "      <th>throttle</th>\n",
       "      <th>steer</th>\n",
       "      <th>brake</th>\n",
       "    </tr>\n",
       "  </thead>\n",
       "  <tbody>\n",
       "    <tr>\n",
       "      <th>0</th>\n",
       "      <td>542558</td>\n",
       "      <td>0</td>\n",
       "      <td>0.9</td>\n",
       "      <td>-0.003379</td>\n",
       "      <td>0.0</td>\n",
       "    </tr>\n",
       "    <tr>\n",
       "      <th>1</th>\n",
       "      <td>542559</td>\n",
       "      <td>0</td>\n",
       "      <td>0.9</td>\n",
       "      <td>-0.010903</td>\n",
       "      <td>0.0</td>\n",
       "    </tr>\n",
       "    <tr>\n",
       "      <th>2</th>\n",
       "      <td>542560</td>\n",
       "      <td>0</td>\n",
       "      <td>0.9</td>\n",
       "      <td>-0.009867</td>\n",
       "      <td>0.0</td>\n",
       "    </tr>\n",
       "    <tr>\n",
       "      <th>3</th>\n",
       "      <td>542561</td>\n",
       "      <td>0</td>\n",
       "      <td>0.9</td>\n",
       "      <td>-0.011255</td>\n",
       "      <td>0.0</td>\n",
       "    </tr>\n",
       "    <tr>\n",
       "      <th>4</th>\n",
       "      <td>542562</td>\n",
       "      <td>0</td>\n",
       "      <td>0.9</td>\n",
       "      <td>0.000766</td>\n",
       "      <td>0.0</td>\n",
       "    </tr>\n",
       "  </tbody>\n",
       "</table>\n",
       "</div>"
      ],
      "text/plain": [
       "       ts  agent_id  throttle     steer  brake\n",
       "0  542558         0       0.9 -0.003379    0.0\n",
       "1  542559         0       0.9 -0.010903    0.0\n",
       "2  542560         0       0.9 -0.009867    0.0\n",
       "3  542561         0       0.9 -0.011255    0.0\n",
       "4  542562         0       0.9  0.000766    0.0"
      ]
     },
     "execution_count": 32,
     "metadata": {},
     "output_type": "execute_result"
    }
   ],
   "source": [
    "ctl_df.head()"
   ]
  },
  {
   "cell_type": "code",
   "execution_count": 33,
   "metadata": {},
   "outputs": [
    {
     "data": {
      "text/plain": [
       "brake\n",
       "0.0    734\n",
       "1.0     86\n",
       "Name: count, dtype: int64"
      ]
     },
     "execution_count": 33,
     "metadata": {},
     "output_type": "execute_result"
    }
   ],
   "source": [
    "ctl_df['brake'].value_counts()"
   ]
  },
  {
   "cell_type": "code",
   "execution_count": 34,
   "metadata": {},
   "outputs": [
    {
     "data": {
      "text/html": [
       "<div>\n",
       "<style scoped>\n",
       "    .dataframe tbody tr th:only-of-type {\n",
       "        vertical-align: middle;\n",
       "    }\n",
       "\n",
       "    .dataframe tbody tr th {\n",
       "        vertical-align: top;\n",
       "    }\n",
       "\n",
       "    .dataframe thead th {\n",
       "        text-align: right;\n",
       "    }\n",
       "</style>\n",
       "<table border=\"1\" class=\"dataframe\">\n",
       "  <thead>\n",
       "    <tr style=\"text-align: right;\">\n",
       "      <th></th>\n",
       "      <th>ts</th>\n",
       "      <th>agent_id</th>\n",
       "      <th>throttle</th>\n",
       "      <th>steer</th>\n",
       "      <th>brake</th>\n",
       "    </tr>\n",
       "  </thead>\n",
       "  <tbody>\n",
       "    <tr>\n",
       "      <th>144</th>\n",
       "      <td>542702</td>\n",
       "      <td>0</td>\n",
       "      <td>0.0</td>\n",
       "      <td>0.052981</td>\n",
       "      <td>1.0</td>\n",
       "    </tr>\n",
       "    <tr>\n",
       "      <th>145</th>\n",
       "      <td>542703</td>\n",
       "      <td>0</td>\n",
       "      <td>0.0</td>\n",
       "      <td>0.033657</td>\n",
       "      <td>1.0</td>\n",
       "    </tr>\n",
       "    <tr>\n",
       "      <th>146</th>\n",
       "      <td>542704</td>\n",
       "      <td>0</td>\n",
       "      <td>0.0</td>\n",
       "      <td>0.031307</td>\n",
       "      <td>1.0</td>\n",
       "    </tr>\n",
       "    <tr>\n",
       "      <th>147</th>\n",
       "      <td>542705</td>\n",
       "      <td>0</td>\n",
       "      <td>0.0</td>\n",
       "      <td>0.025756</td>\n",
       "      <td>1.0</td>\n",
       "    </tr>\n",
       "    <tr>\n",
       "      <th>148</th>\n",
       "      <td>542706</td>\n",
       "      <td>0</td>\n",
       "      <td>0.0</td>\n",
       "      <td>0.010700</td>\n",
       "      <td>1.0</td>\n",
       "    </tr>\n",
       "  </tbody>\n",
       "</table>\n",
       "</div>"
      ],
      "text/plain": [
       "         ts  agent_id  throttle     steer  brake\n",
       "144  542702         0       0.0  0.052981    1.0\n",
       "145  542703         0       0.0  0.033657    1.0\n",
       "146  542704         0       0.0  0.031307    1.0\n",
       "147  542705         0       0.0  0.025756    1.0\n",
       "148  542706         0       0.0  0.010700    1.0"
      ]
     },
     "execution_count": 34,
     "metadata": {},
     "output_type": "execute_result"
    }
   ],
   "source": [
    "ctl_df[ctl_df['brake']==1].head()"
   ]
  },
  {
   "cell_type": "code",
   "execution_count": 35,
   "metadata": {},
   "outputs": [
    {
     "data": {
      "text/html": [
       "<div>\n",
       "<style scoped>\n",
       "    .dataframe tbody tr th:only-of-type {\n",
       "        vertical-align: middle;\n",
       "    }\n",
       "\n",
       "    .dataframe tbody tr th {\n",
       "        vertical-align: top;\n",
       "    }\n",
       "\n",
       "    .dataframe thead th {\n",
       "        text-align: right;\n",
       "    }\n",
       "</style>\n",
       "<table border=\"1\" class=\"dataframe\">\n",
       "  <thead>\n",
       "    <tr style=\"text-align: right;\">\n",
       "      <th></th>\n",
       "      <th>ts</th>\n",
       "      <th>agent_id</th>\n",
       "      <th>throttle</th>\n",
       "      <th>steer</th>\n",
       "      <th>brake</th>\n",
       "    </tr>\n",
       "  </thead>\n",
       "  <tbody>\n",
       "    <tr>\n",
       "      <th>140</th>\n",
       "      <td>542698</td>\n",
       "      <td>0</td>\n",
       "      <td>0.900000</td>\n",
       "      <td>-0.002323</td>\n",
       "      <td>0.0</td>\n",
       "    </tr>\n",
       "    <tr>\n",
       "      <th>141</th>\n",
       "      <td>542699</td>\n",
       "      <td>0</td>\n",
       "      <td>0.900000</td>\n",
       "      <td>0.005971</td>\n",
       "      <td>0.0</td>\n",
       "    </tr>\n",
       "    <tr>\n",
       "      <th>142</th>\n",
       "      <td>542700</td>\n",
       "      <td>0</td>\n",
       "      <td>0.900000</td>\n",
       "      <td>0.030870</td>\n",
       "      <td>0.0</td>\n",
       "    </tr>\n",
       "    <tr>\n",
       "      <th>143</th>\n",
       "      <td>542701</td>\n",
       "      <td>0</td>\n",
       "      <td>0.837753</td>\n",
       "      <td>0.037018</td>\n",
       "      <td>0.0</td>\n",
       "    </tr>\n",
       "    <tr>\n",
       "      <th>144</th>\n",
       "      <td>542702</td>\n",
       "      <td>0</td>\n",
       "      <td>0.000000</td>\n",
       "      <td>0.052981</td>\n",
       "      <td>1.0</td>\n",
       "    </tr>\n",
       "    <tr>\n",
       "      <th>145</th>\n",
       "      <td>542703</td>\n",
       "      <td>0</td>\n",
       "      <td>0.000000</td>\n",
       "      <td>0.033657</td>\n",
       "      <td>1.0</td>\n",
       "    </tr>\n",
       "    <tr>\n",
       "      <th>146</th>\n",
       "      <td>542704</td>\n",
       "      <td>0</td>\n",
       "      <td>0.000000</td>\n",
       "      <td>0.031307</td>\n",
       "      <td>1.0</td>\n",
       "    </tr>\n",
       "    <tr>\n",
       "      <th>147</th>\n",
       "      <td>542705</td>\n",
       "      <td>0</td>\n",
       "      <td>0.000000</td>\n",
       "      <td>0.025756</td>\n",
       "      <td>1.0</td>\n",
       "    </tr>\n",
       "    <tr>\n",
       "      <th>148</th>\n",
       "      <td>542706</td>\n",
       "      <td>0</td>\n",
       "      <td>0.000000</td>\n",
       "      <td>0.010700</td>\n",
       "      <td>1.0</td>\n",
       "    </tr>\n",
       "    <tr>\n",
       "      <th>149</th>\n",
       "      <td>542707</td>\n",
       "      <td>0</td>\n",
       "      <td>0.000000</td>\n",
       "      <td>0.005118</td>\n",
       "      <td>1.0</td>\n",
       "    </tr>\n",
       "    <tr>\n",
       "      <th>150</th>\n",
       "      <td>542708</td>\n",
       "      <td>0</td>\n",
       "      <td>0.792055</td>\n",
       "      <td>0.003919</td>\n",
       "      <td>0.0</td>\n",
       "    </tr>\n",
       "  </tbody>\n",
       "</table>\n",
       "</div>"
      ],
      "text/plain": [
       "         ts  agent_id  throttle     steer  brake\n",
       "140  542698         0  0.900000 -0.002323    0.0\n",
       "141  542699         0  0.900000  0.005971    0.0\n",
       "142  542700         0  0.900000  0.030870    0.0\n",
       "143  542701         0  0.837753  0.037018    0.0\n",
       "144  542702         0  0.000000  0.052981    1.0\n",
       "145  542703         0  0.000000  0.033657    1.0\n",
       "146  542704         0  0.000000  0.031307    1.0\n",
       "147  542705         0  0.000000  0.025756    1.0\n",
       "148  542706         0  0.000000  0.010700    1.0\n",
       "149  542707         0  0.000000  0.005118    1.0\n",
       "150  542708         0  0.792055  0.003919    0.0"
      ]
     },
     "execution_count": 35,
     "metadata": {},
     "output_type": "execute_result"
    }
   ],
   "source": [
    "start_index = 140\n",
    "end_index = 150\n",
    "specific_rows = ctl_df.iloc[start_index:end_index+1]\n",
    "specific_rows"
   ]
  },
  {
   "cell_type": "markdown",
   "metadata": {},
   "source": [
    "### _cvip.csv "
   ]
  },
  {
   "cell_type": "code",
   "execution_count": 36,
   "metadata": {},
   "outputs": [
    {
     "data": {
      "text/plain": [
       "(820, 6)"
      ]
     },
     "execution_count": 36,
     "metadata": {},
     "output_type": "execute_result"
    }
   ],
   "source": [
    "file_path = os.path.join(\"simulation_results\",\n",
    "                        \"route_highway_epoch24_clear-night_fi_ghost_cutin\",\n",
    "                        \"routes_fi_route_highway-0910_142625-data_fi_ghost_cutin-single_cvip.csv\")\n",
    "cvip_df = pd.read_csv(file_path)\n",
    "cvip_df.shape"
   ]
  },
  {
   "cell_type": "code",
   "execution_count": 37,
   "metadata": {},
   "outputs": [
    {
     "data": {
      "text/html": [
       "<div>\n",
       "<style scoped>\n",
       "    .dataframe tbody tr th:only-of-type {\n",
       "        vertical-align: middle;\n",
       "    }\n",
       "\n",
       "    .dataframe tbody tr th {\n",
       "        vertical-align: top;\n",
       "    }\n",
       "\n",
       "    .dataframe thead th {\n",
       "        text-align: right;\n",
       "    }\n",
       "</style>\n",
       "<table border=\"1\" class=\"dataframe\">\n",
       "  <thead>\n",
       "    <tr style=\"text-align: right;\">\n",
       "      <th></th>\n",
       "      <th>ts</th>\n",
       "      <th>agent_id</th>\n",
       "      <th>cvip</th>\n",
       "      <th>cvip_x</th>\n",
       "      <th>cvip_y</th>\n",
       "      <th>cvip_z</th>\n",
       "    </tr>\n",
       "  </thead>\n",
       "  <tbody>\n",
       "    <tr>\n",
       "      <th>0</th>\n",
       "      <td>542558</td>\n",
       "      <td>0</td>\n",
       "      <td>500.491189</td>\n",
       "      <td>198.767441</td>\n",
       "      <td>-95.832657</td>\n",
       "      <td>-499.819366</td>\n",
       "    </tr>\n",
       "    <tr>\n",
       "      <th>1</th>\n",
       "      <td>542559</td>\n",
       "      <td>0</td>\n",
       "      <td>5.595580</td>\n",
       "      <td>195.567444</td>\n",
       "      <td>-90.832657</td>\n",
       "      <td>0.100000</td>\n",
       "    </tr>\n",
       "    <tr>\n",
       "      <th>2</th>\n",
       "      <td>542560</td>\n",
       "      <td>0</td>\n",
       "      <td>5.592365</td>\n",
       "      <td>195.567444</td>\n",
       "      <td>-90.832657</td>\n",
       "      <td>0.095407</td>\n",
       "    </tr>\n",
       "    <tr>\n",
       "      <th>3</th>\n",
       "      <td>542561</td>\n",
       "      <td>0</td>\n",
       "      <td>5.589578</td>\n",
       "      <td>195.567444</td>\n",
       "      <td>-90.832657</td>\n",
       "      <td>0.084691</td>\n",
       "    </tr>\n",
       "    <tr>\n",
       "      <th>4</th>\n",
       "      <td>542562</td>\n",
       "      <td>0</td>\n",
       "      <td>5.587154</td>\n",
       "      <td>195.567444</td>\n",
       "      <td>-90.832657</td>\n",
       "      <td>0.069311</td>\n",
       "    </tr>\n",
       "  </tbody>\n",
       "</table>\n",
       "</div>"
      ],
      "text/plain": [
       "       ts  agent_id        cvip      cvip_x     cvip_y      cvip_z\n",
       "0  542558         0  500.491189  198.767441 -95.832657 -499.819366\n",
       "1  542559         0    5.595580  195.567444 -90.832657    0.100000\n",
       "2  542560         0    5.592365  195.567444 -90.832657    0.095407\n",
       "3  542561         0    5.589578  195.567444 -90.832657    0.084691\n",
       "4  542562         0    5.587154  195.567444 -90.832657    0.069311"
      ]
     },
     "execution_count": 37,
     "metadata": {},
     "output_type": "execute_result"
    }
   ],
   "source": [
    "cvip_df.head()"
   ]
  },
  {
   "cell_type": "markdown",
   "metadata": {},
   "source": [
    "### _traj.csv "
   ]
  },
  {
   "cell_type": "code",
   "execution_count": 38,
   "metadata": {},
   "outputs": [
    {
     "data": {
      "text/plain": [
       "(820, 6)"
      ]
     },
     "execution_count": 38,
     "metadata": {},
     "output_type": "execute_result"
    }
   ],
   "source": [
    "file_path = os.path.join(\"simulation_results\",\n",
    "                        \"route_highway_epoch24_clear-night_fi_ghost_cutin\",\n",
    "                        \"routes_fi_route_highway-0910_142625-data_fi_ghost_cutin-single_traj.csv\")\n",
    "traj_df = pd.read_csv(file_path)\n",
    "traj_df.shape"
   ]
  },
  {
   "cell_type": "code",
   "execution_count": 39,
   "metadata": {},
   "outputs": [
    {
     "data": {
      "text/html": [
       "<div>\n",
       "<style scoped>\n",
       "    .dataframe tbody tr th:only-of-type {\n",
       "        vertical-align: middle;\n",
       "    }\n",
       "\n",
       "    .dataframe tbody tr th {\n",
       "        vertical-align: top;\n",
       "    }\n",
       "\n",
       "    .dataframe thead th {\n",
       "        text-align: right;\n",
       "    }\n",
       "</style>\n",
       "<table border=\"1\" class=\"dataframe\">\n",
       "  <thead>\n",
       "    <tr style=\"text-align: right;\">\n",
       "      <th></th>\n",
       "      <th>ts</th>\n",
       "      <th>agent_id</th>\n",
       "      <th>x</th>\n",
       "      <th>y</th>\n",
       "      <th>z</th>\n",
       "      <th>v</th>\n",
       "    </tr>\n",
       "  </thead>\n",
       "  <tbody>\n",
       "    <tr>\n",
       "      <th>0</th>\n",
       "      <td>542558</td>\n",
       "      <td>0</td>\n",
       "      <td>192.362411</td>\n",
       "      <td>-86.262680</td>\n",
       "      <td>0.539326</td>\n",
       "      <td>0.000000</td>\n",
       "    </tr>\n",
       "    <tr>\n",
       "      <th>1</th>\n",
       "      <td>542559</td>\n",
       "      <td>0</td>\n",
       "      <td>192.362411</td>\n",
       "      <td>-86.262680</td>\n",
       "      <td>0.491906</td>\n",
       "      <td>0.000000</td>\n",
       "    </tr>\n",
       "    <tr>\n",
       "      <th>2</th>\n",
       "      <td>542560</td>\n",
       "      <td>0</td>\n",
       "      <td>192.362411</td>\n",
       "      <td>-86.262680</td>\n",
       "      <td>0.438374</td>\n",
       "      <td>0.000000</td>\n",
       "    </tr>\n",
       "    <tr>\n",
       "      <th>3</th>\n",
       "      <td>542561</td>\n",
       "      <td>0</td>\n",
       "      <td>192.362411</td>\n",
       "      <td>-86.262680</td>\n",
       "      <td>0.378732</td>\n",
       "      <td>0.000000</td>\n",
       "    </tr>\n",
       "    <tr>\n",
       "      <th>4</th>\n",
       "      <td>542562</td>\n",
       "      <td>0</td>\n",
       "      <td>192.362411</td>\n",
       "      <td>-86.262680</td>\n",
       "      <td>0.312981</td>\n",
       "      <td>0.000000</td>\n",
       "    </tr>\n",
       "    <tr>\n",
       "      <th>...</th>\n",
       "      <td>...</td>\n",
       "      <td>...</td>\n",
       "      <td>...</td>\n",
       "      <td>...</td>\n",
       "      <td>...</td>\n",
       "      <td>...</td>\n",
       "    </tr>\n",
       "    <tr>\n",
       "      <th>815</th>\n",
       "      <td>543373</td>\n",
       "      <td>0</td>\n",
       "      <td>189.801575</td>\n",
       "      <td>43.074722</td>\n",
       "      <td>0.033570</td>\n",
       "      <td>8.986841</td>\n",
       "    </tr>\n",
       "    <tr>\n",
       "      <th>816</th>\n",
       "      <td>543374</td>\n",
       "      <td>0</td>\n",
       "      <td>189.799118</td>\n",
       "      <td>43.299892</td>\n",
       "      <td>0.033578</td>\n",
       "      <td>9.014528</td>\n",
       "    </tr>\n",
       "    <tr>\n",
       "      <th>817</th>\n",
       "      <td>543375</td>\n",
       "      <td>0</td>\n",
       "      <td>189.796585</td>\n",
       "      <td>43.525742</td>\n",
       "      <td>0.033586</td>\n",
       "      <td>9.041392</td>\n",
       "    </tr>\n",
       "    <tr>\n",
       "      <th>818</th>\n",
       "      <td>543376</td>\n",
       "      <td>0</td>\n",
       "      <td>189.793945</td>\n",
       "      <td>43.752205</td>\n",
       "      <td>0.033595</td>\n",
       "      <td>9.065408</td>\n",
       "    </tr>\n",
       "    <tr>\n",
       "      <th>819</th>\n",
       "      <td>543377</td>\n",
       "      <td>0</td>\n",
       "      <td>189.791092</td>\n",
       "      <td>43.979267</td>\n",
       "      <td>0.033604</td>\n",
       "      <td>9.089388</td>\n",
       "    </tr>\n",
       "  </tbody>\n",
       "</table>\n",
       "<p>820 rows × 6 columns</p>\n",
       "</div>"
      ],
      "text/plain": [
       "         ts  agent_id           x          y         z         v\n",
       "0    542558         0  192.362411 -86.262680  0.539326  0.000000\n",
       "1    542559         0  192.362411 -86.262680  0.491906  0.000000\n",
       "2    542560         0  192.362411 -86.262680  0.438374  0.000000\n",
       "3    542561         0  192.362411 -86.262680  0.378732  0.000000\n",
       "4    542562         0  192.362411 -86.262680  0.312981  0.000000\n",
       "..      ...       ...         ...        ...       ...       ...\n",
       "815  543373         0  189.801575  43.074722  0.033570  8.986841\n",
       "816  543374         0  189.799118  43.299892  0.033578  9.014528\n",
       "817  543375         0  189.796585  43.525742  0.033586  9.041392\n",
       "818  543376         0  189.793945  43.752205  0.033595  9.065408\n",
       "819  543377         0  189.791092  43.979267  0.033604  9.089388\n",
       "\n",
       "[820 rows x 6 columns]"
      ]
     },
     "execution_count": 39,
     "metadata": {},
     "output_type": "execute_result"
    }
   ],
   "source": [
    "traj_df"
   ]
  }
 ],
 "metadata": {
  "kernelspec": {
   "display_name": "base",
   "language": "python",
   "name": "python3"
  },
  "language_info": {
   "codemirror_mode": {
    "name": "ipython",
    "version": 3
   },
   "file_extension": ".py",
   "mimetype": "text/x-python",
   "name": "python",
   "nbconvert_exporter": "python",
   "pygments_lexer": "ipython3",
   "version": "3.10.9"
  }
 },
 "nbformat": 4,
 "nbformat_minor": 2
}
