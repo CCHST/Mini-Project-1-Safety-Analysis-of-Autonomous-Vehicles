{
 "cells": [
  {
   "cell_type": "code",
   "execution_count": 1,
   "metadata": {},
   "outputs": [],
   "source": [
    "import os\n",
    "import datetime \n",
    "import numpy as np\n",
    "import pandas as pd\n",
    "import matplotlib.pyplot as plt\n",
    "import matplotlib.dates as mdates"
   ]
  },
  {
   "cell_type": "code",
   "execution_count": 2,
   "metadata": {},
   "outputs": [],
   "source": [
    "data_dir = 'C:\\\\Users\\\\cindy\\\\Desktop\\\\Mini-Project-1-Safety-Analysis-of-Autonomous-Vehicles\\\\simulation_results\\\\'"
   ]
  },
  {
   "cell_type": "markdown",
   "metadata": {},
   "source": [
    "##### task 1.1"
   ]
  },
  {
   "cell_type": "code",
   "execution_count": 3,
   "metadata": {},
   "outputs": [],
   "source": [
    "scenarios = ['clear-night', 'clear-noon', 'clear-sunset', 'haze-noon', 'haze-sunset', 'rain-noon']\n",
    "csvs = ['ctl', 'cvip', 'traj']"
   ]
  },
  {
   "cell_type": "code",
   "execution_count": null,
   "metadata": {},
   "outputs": [],
   "source": [
    "all_data = []\n",
    "dfs = {}\n",
    "for folder in os.listdir(data_dir):\n",
    "    folder_path = os.path.join(data_dir, folder)\n",
    "    if os.path.isdir(folder_path):\n",
    "        for scenario in scenarios:\n",
    "            if scenario in folder:\n",
    "                folder = scenario  \n",
    "                break  \n",
    "\n",
    "        for file in os.listdir(folder_path):\n",
    "            if file.endswith('.csv'):\n",
    "                file_path = os.path.join(folder_path, file)\n",
    "                df = pd.read_csv(file_path)\n",
    "                for csv_type in csvs:\n",
    "                    if csv_type in file:\n",
    "                        file = csv_type\n",
    "                        break \n",
    "                all_data.append((folder, file, df))  \n",
    "                key = f\"{folder}_{file}\"  \n",
    "                dfs[key] = df \n",
    "\n",
    "for i, (folder, file, df) in enumerate(all_data):\n",
    "    print(f\"Data from folder '{folder}', file '{file}':\\n\", df.head(), \"\\n\")\n",
    "    print(\"=\"*50)"
   ]
  },
  {
   "cell_type": "code",
   "execution_count": null,
   "metadata": {},
   "outputs": [],
   "source": [
    "# List the first 5 rows of the ctl.csv, cvip.csv, and traj.csv with the clear-night weather condition.\n",
    "scenario = 'clear-night'\n",
    "\n",
    "for file_type in csvs:\n",
    "    key = f\"{scenario}_{file_type}\" \n",
    "    df = dfs.get(key)  \n",
    "    if df is not None:\n",
    "        # print(df['agent_id'].nunique())\n",
    "        print(f\"Data from '{key}':\\n\", df.head())"
   ]
  },
  {
   "cell_type": "markdown",
   "metadata": {},
   "source": [
    "##### task1.2"
   ]
  },
  {
   "cell_type": "code",
   "execution_count": null,
   "metadata": {},
   "outputs": [],
   "source": [
    "# a. The duration of the scene\n",
    "duration = 0\n",
    "for scenario in scenarios:\n",
    "    for file_type in csvs:\n",
    "        key = f\"{scenario}_{file_type}\" \n",
    "        df = dfs.get(key)  \n",
    "        if df is not None:\n",
    "            start_time = df['ts'].min() \n",
    "            end_time = df['ts'].max()  \n",
    "            duration = end_time - start_time\n",
    "\n",
    "    print(f\"Scene '{scenario}'\")\n",
    "    print(f\"The duration of the scene: {duration} seconds\")\n",
    "    print(\"=\"*50)"
   ]
  },
  {
   "cell_type": "code",
   "execution_count": null,
   "metadata": {},
   "outputs": [],
   "source": [
    "# b. Mean and standard deviation of the values of the features\n",
    "features = ['throttle', 'steer', 'brake', 'cvip', 'x', 'y', 'v']\n",
    "results_df = pd.DataFrame(index=features)\n",
    "\n",
    "for scenario in scenarios:\n",
    "    mean_std_values = {}\n",
    "    for file_type in csvs:\n",
    "        key = f\"{scenario}_{file_type}\" \n",
    "        df = dfs.get(key) \n",
    "        if df is not None:\n",
    "            for feature in features:\n",
    "                if feature in df.columns:\n",
    "                    mean_value = df[feature].mean()\n",
    "                    std_value = df[feature].std()\n",
    "                    mean_std_values[feature] = f\"{mean_value:.3f} ({std_value:.3f})\"\n",
    "    \n",
    "    if mean_std_values:\n",
    "        results_df[scenario] = pd.Series(mean_std_values)\n",
    "\n",
    "results_df"
   ]
  },
  {
   "cell_type": "markdown",
   "metadata": {},
   "source": [
    "##### task 1.3"
   ]
  },
  {
   "cell_type": "code",
   "execution_count": null,
   "metadata": {},
   "outputs": [],
   "source": [
    "# colors, matching with scenarios\n",
    "colors = ['tomato', 'crimson', 'darkorange', 'cornflowerblue', 'lightseagreen', 'lightslategrey']\n",
    "\n",
    "for feature in features:\n",
    "    plt.figure(figsize=(10, 6)) \n",
    "    plt.title(f\"{feature.capitalize()} vs Time for different weather conditions\")\n",
    "    plt.xlabel(\"Time (ts)\")\n",
    "    plt.ylabel(f\"{feature.capitalize()} value\")\n",
    "\n",
    "    for i, (scenario, color) in enumerate(zip(scenarios, colors)):\n",
    "        df = None \n",
    "        for file_type in csvs:\n",
    "            key = f\"{scenario}_{file_type}\"  \n",
    "            df = dfs.get(key) \n",
    "            if df is not None and feature in df.columns:\n",
    "                df['ts'] = pd.to_datetime(df['ts'], unit='s')\n",
    "                plt.plot(df['ts'], df[feature], label=scenario, color=color, alpha=0.7)\n",
    "\n",
    "    # second\n",
    "    plt.gca().xaxis.set_major_locator(mdates.SecondLocator(interval=1000))  \n",
    "    plt.gca().xaxis.set_major_formatter(mdates.DateFormatter('%H:%M:%S'))  \n",
    "\n",
    "    plt.xticks(rotation=45)\n",
    "    plt.legend(title=\"Weather Conditions\", loc='lower right')\n",
    "    plt.tight_layout()  \n",
    "    plt.show()"
   ]
  },
  {
   "cell_type": "markdown",
   "metadata": {},
   "source": [
    "##### task 1.4"
   ]
  },
  {
   "cell_type": "markdown",
   "metadata": {},
   "source": [
    "##### Based on your intuition and life experience, which of the features do you think will change during an accident? How will the feature(s) change? \n",
    "1. `Throttle`: The throttle may decrease sharply just before the accident, as drivers usually slow down or stop when sensing a collision is imminent.\n",
    "2. `Brake`: The brake input may increase dramatically during an accident, indicating the driver’s attempt to stop the vehicle.\n",
    "3. `Steering`: The steering may show rapid changes during an accident, as the driver might try to swerve to avoid an object or another vehicle.\n",
    "4. `Speed(v)`: Speed will typically decrease and may even reach zero as the vehicle comes to a stop due to the accident.\n",
    "5. `Distance to other objects(cvip)`: The distance between the vehicle and other vehicles or objects will decrease rapidly as the accident approaches.\n",
    "6. `x(horizontal direction)`: If the driver or the autonomous system attempts to swerve before the accident, x may undergo rapid changes.\n",
    "7. `y(driving direction)`: If the vehicle decelerates or stops before the accident, y will gradually decrease and may eventually approach zero.\n",
    "\n",
    "##### By looking at the plots you generated in Task 1.3, which weather condition(s) has an accident? "
   ]
  },
  {
   "cell_type": "markdown",
   "metadata": {},
   "source": [
    "##### task1.3 plot time as an ordinal variable"
   ]
  },
  {
   "cell_type": "code",
   "execution_count": null,
   "metadata": {},
   "outputs": [],
   "source": [
    "offset = 0  \n",
    "\n",
    "for feature in features:\n",
    "    plt.figure(figsize=(10, 6)) \n",
    "    plt.title(f\"{feature.capitalize()} vs Time for different weather conditions\")\n",
    "    plt.xlabel(\"Index\")\n",
    "    plt.ylabel(f\"{feature.capitalize()} value\")\n",
    "\n",
    "    for i, (scenario, color) in enumerate(zip(scenarios, colors)):\n",
    "        df = None \n",
    "        for file_type in csvs:\n",
    "            key = f\"{scenario}_{file_type}\"  \n",
    "            df = dfs.get(key) \n",
    "            if df is not None and feature in df.columns:\n",
    "                plt.plot(df.index + offset, df[feature], label=scenario, color=color, alpha=0.7)\n",
    "                offset += len(df)\n",
    "\n",
    "    plt.xticks(rotation=45)  \n",
    "    plt.legend(title=\"Weather Conditions\", loc='lower right')\n",
    "    plt.tight_layout()  \n",
    "    plt.show()"
   ]
  },
  {
   "cell_type": "markdown",
   "metadata": {},
   "source": [
    "##### task1.3 subplot"
   ]
  },
  {
   "cell_type": "code",
   "execution_count": null,
   "metadata": {},
   "outputs": [],
   "source": [
    "ncols = 3  \n",
    "nrows = (len(scenarios) + ncols - 1) // ncols  \n",
    "\n",
    "for feature in features:\n",
    "    fig, ax = plt.subplots(nrows, ncols, figsize=(12, 6 * nrows))  \n",
    "\n",
    "    ax = ax.flatten()  \n",
    "    for i, (scenario, color) in enumerate(zip(scenarios, colors)):\n",
    "        df = None  \n",
    "        for file_type in csvs:\n",
    "            key = f\"{scenario}_{file_type}\"  \n",
    "            df = dfs.get(key)  \n",
    "            if df is not None and feature in df.columns:\n",
    "                ax[i].plot(df['ts'], df[feature], label=scenario, color=color, alpha=0.7)\n",
    "                ax[i].set_title(f\"{feature.capitalize()} vs Time for {scenario}\")\n",
    "                ax[i].set_xlabel(\"Time (ts)\")\n",
    "                ax[i].set_ylabel(f\"{feature.capitalize()} value\")\n",
    "                ax[i].legend(loc='lower right')\n",
    "\n",
    "    for j in range(i + 1, len(ax)):\n",
    "        fig.delaxes(ax[j])\n",
    "\n",
    "    plt.tight_layout()  \n",
    "    plt.show()"
   ]
  }
 ],
 "metadata": {
  "kernelspec": {
   "display_name": "Python 3",
   "language": "python",
   "name": "python3"
  },
  "language_info": {
   "codemirror_mode": {
    "name": "ipython",
    "version": 3
   },
   "file_extension": ".py",
   "mimetype": "text/x-python",
   "name": "python",
   "nbconvert_exporter": "python",
   "pygments_lexer": "ipython3",
   "version": "3.12.5"
  }
 },
 "nbformat": 4,
 "nbformat_minor": 2
}
