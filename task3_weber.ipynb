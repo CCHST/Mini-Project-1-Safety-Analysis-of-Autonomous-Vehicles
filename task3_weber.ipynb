{
 "cells": [
  {
   "cell_type": "code",
   "execution_count": 25,
   "metadata": {},
   "outputs": [],
   "source": [
    "import pandas as pd\n",
    "import scipy.stats as stats\n",
    "import matplotlib.pyplot as plt\n",
    "import numpy as np"
   ]
  },
  {
   "cell_type": "code",
   "execution_count": 5,
   "metadata": {},
   "outputs": [
    {
     "data": {
      "text/plain": [
       "(1024, 7)"
      ]
     },
     "execution_count": 5,
     "metadata": {},
     "output_type": "execute_result"
    }
   ],
   "source": [
    "file_path = 'mp1_av_disengagements.csv'\n",
    "df = pd.read_csv(file_path)\n",
    "df.shape"
   ]
  },
  {
   "cell_type": "code",
   "execution_count": 7,
   "metadata": {},
   "outputs": [
    {
     "name": "stdout",
     "output_type": "stream",
     "text": [
      "<class 'pandas.core.frame.DataFrame'>\n",
      "RangeIndex: 1024 entries, 0 to 1023\n",
      "Data columns (total 7 columns):\n",
      " #   Column         Non-Null Count  Dtype  \n",
      "---  ------         --------------  -----  \n",
      " 0   Month          1024 non-null   object \n",
      " 1   Car            1024 non-null   object \n",
      " 2   Location       1024 non-null   object \n",
      " 3   Weather        1024 non-null   object \n",
      " 4   TypeOfTrigger  1024 non-null   object \n",
      " 5   ReactionTime   492 non-null    float64\n",
      " 6   Cause          1024 non-null   object \n",
      "dtypes: float64(1), object(6)\n",
      "memory usage: 56.1+ KB\n"
     ]
    }
   ],
   "source": [
    "df.info()"
   ]
  },
  {
   "cell_type": "code",
   "execution_count": 6,
   "metadata": {},
   "outputs": [
    {
     "data": {
      "text/html": [
       "<div>\n",
       "<style scoped>\n",
       "    .dataframe tbody tr th:only-of-type {\n",
       "        vertical-align: middle;\n",
       "    }\n",
       "\n",
       "    .dataframe tbody tr th {\n",
       "        vertical-align: top;\n",
       "    }\n",
       "\n",
       "    .dataframe thead th {\n",
       "        text-align: right;\n",
       "    }\n",
       "</style>\n",
       "<table border=\"1\" class=\"dataframe\">\n",
       "  <thead>\n",
       "    <tr style=\"text-align: right;\">\n",
       "      <th></th>\n",
       "      <th>Month</th>\n",
       "      <th>Car</th>\n",
       "      <th>Location</th>\n",
       "      <th>Weather</th>\n",
       "      <th>TypeOfTrigger</th>\n",
       "      <th>ReactionTime</th>\n",
       "      <th>Cause</th>\n",
       "    </tr>\n",
       "  </thead>\n",
       "  <tbody>\n",
       "    <tr>\n",
       "      <th>0</th>\n",
       "      <td>14-Sep</td>\n",
       "      <td>WDD2221851A001072</td>\n",
       "      <td>urban-street</td>\n",
       "      <td>cloudy</td>\n",
       "      <td>automatic</td>\n",
       "      <td>0.58</td>\n",
       "      <td>Incorrect Traffic Light Detection</td>\n",
       "    </tr>\n",
       "    <tr>\n",
       "      <th>1</th>\n",
       "      <td>14-Sep</td>\n",
       "      <td>WDD2221851A001072</td>\n",
       "      <td>urban-street</td>\n",
       "      <td>cloudy</td>\n",
       "      <td>automatic</td>\n",
       "      <td>0.66</td>\n",
       "      <td>Adverse road surface conditions</td>\n",
       "    </tr>\n",
       "    <tr>\n",
       "      <th>2</th>\n",
       "      <td>14-Sep</td>\n",
       "      <td>WDD2221851A001072</td>\n",
       "      <td>urban-street</td>\n",
       "      <td>cloudy</td>\n",
       "      <td>automatic</td>\n",
       "      <td>1.93</td>\n",
       "      <td>Position Estimation Failure</td>\n",
       "    </tr>\n",
       "    <tr>\n",
       "      <th>3</th>\n",
       "      <td>14-Sep</td>\n",
       "      <td>WDD2221851A001072</td>\n",
       "      <td>urban-street</td>\n",
       "      <td>cloudy</td>\n",
       "      <td>automatic</td>\n",
       "      <td>0.65</td>\n",
       "      <td>Emergency Vehicle</td>\n",
       "    </tr>\n",
       "    <tr>\n",
       "      <th>4</th>\n",
       "      <td>14-Sep</td>\n",
       "      <td>WDD2221851A001072</td>\n",
       "      <td>urban-street</td>\n",
       "      <td>cloudy</td>\n",
       "      <td>automatic</td>\n",
       "      <td>0.64</td>\n",
       "      <td>Adverse road surface conditions</td>\n",
       "    </tr>\n",
       "  </tbody>\n",
       "</table>\n",
       "</div>"
      ],
      "text/plain": [
       "    Month                Car      Location Weather TypeOfTrigger   \n",
       "0  14-Sep  WDD2221851A001072  urban-street  cloudy     automatic  \\\n",
       "1  14-Sep  WDD2221851A001072  urban-street  cloudy     automatic   \n",
       "2  14-Sep  WDD2221851A001072  urban-street  cloudy     automatic   \n",
       "3  14-Sep  WDD2221851A001072  urban-street  cloudy     automatic   \n",
       "4  14-Sep  WDD2221851A001072  urban-street  cloudy     automatic   \n",
       "\n",
       "   ReactionTime                              Cause  \n",
       "0          0.58  Incorrect Traffic Light Detection  \n",
       "1          0.66    Adverse road surface conditions  \n",
       "2          1.93        Position Estimation Failure  \n",
       "3          0.65                  Emergency Vehicle  \n",
       "4          0.64    Adverse road surface conditions  "
      ]
     },
     "execution_count": 6,
     "metadata": {},
     "output_type": "execute_result"
    }
   ],
   "source": [
    "df.head()"
   ]
  },
  {
   "cell_type": "code",
   "execution_count": 8,
   "metadata": {},
   "outputs": [
    {
     "data": {
      "text/plain": [
       "Weather\n",
       "cloudy    835\n",
       "clear     189\n",
       "Name: count, dtype: int64"
      ]
     },
     "execution_count": 8,
     "metadata": {},
     "output_type": "execute_result"
    }
   ],
   "source": [
    "df['Weather'].value_counts()"
   ]
  },
  {
   "cell_type": "markdown",
   "metadata": {},
   "source": [
    "---"
   ]
  },
  {
   "cell_type": "markdown",
   "metadata": {},
   "source": [
    "Given below are some assumptions that you will need to do the analysis for this task.\n",
    "1. There can be at most one disengagement per mile.\n",
    "2. The total amount of miles driven by all the AVs in the dataset is 505229 miles.\n",
    "3. A day can be either clear or cloudy, but not both. The probability of a day being\n",
    "clear in California is 72% [7].\n",
    "4. The AV is equally likely to drive on a cloudy day as on a clear day."
   ]
  },
  {
   "cell_type": "markdown",
   "metadata": {},
   "source": [
    "---"
   ]
  },
  {
   "cell_type": "markdown",
   "metadata": {},
   "source": [
    "1. Based on the above assumptions, answer the following questions on basic\n",
    "probability. (6 points)"
   ]
  },
  {
   "cell_type": "markdown",
   "metadata": {},
   "source": [
    "<font color=yellow>a. </font>"
   ]
  },
  {
   "cell_type": "markdown",
   "metadata": {},
   "source": [
    "The assumption of at most one disengagement per mile suggests that the occurrence of disengagements can be treated as a **Poisson distribution**. This is because a Poisson distribution is typically used for modeling the number of events occurring within a fixed interval of time or space, given that these events occur with a known constant mean rate and independently of the time since the last event."
   ]
  },
  {
   "cell_type": "markdown",
   "metadata": {},
   "source": [
    "<font color=yellow>b. & c. </font>"
   ]
  },
  {
   "cell_type": "code",
   "execution_count": 9,
   "metadata": {},
   "outputs": [
    {
     "data": {
      "text/plain": [
       "(0.8154296875, 0.1845703125)"
      ]
     },
     "execution_count": 9,
     "metadata": {},
     "output_type": "execute_result"
    }
   ],
   "source": [
    "disengagement_counts = df['Weather'].value_counts()\n",
    "total_miles_driven = len(df)\n",
    "\n",
    "probability_cloudy = disengagement_counts['cloudy'] / total_miles_driven\n",
    "probability_clear = disengagement_counts['clear'] / total_miles_driven\n",
    "probability_cloudy, probability_clear\n"
   ]
  },
  {
   "cell_type": "markdown",
   "metadata": {},
   "source": [
    "- Probability of disengagement per mile on a cloudy day: 0.8154\n",
    "- Probability of disengagement per mile on a clear day: 0.1846"
   ]
  },
  {
   "cell_type": "markdown",
   "metadata": {},
   "source": [
    "<font color=yellow>d.  </font>"
   ]
  },
  {
   "cell_type": "code",
   "execution_count": 10,
   "metadata": {},
   "outputs": [
    {
     "data": {
      "text/plain": [
       "(0.3876953125, 0.09375)"
      ]
     },
     "execution_count": 10,
     "metadata": {},
     "output_type": "execute_result"
    }
   ],
   "source": [
    "automatic_disengagements = df[df['TypeOfTrigger'] == 'automatic']\n",
    "automatic_disengagement_counts = automatic_disengagements['Weather'].value_counts()\n",
    "\n",
    "probability_automatic_cloudy = automatic_disengagement_counts['cloudy'] / total_miles_driven\n",
    "probability_automatic_clear = automatic_disengagement_counts['clear'] / total_miles_driven\n",
    "\n",
    "probability_automatic_cloudy, probability_automatic_clear"
   ]
  },
  {
   "cell_type": "markdown",
   "metadata": {},
   "source": [
    "- Probability of an automatic disengagement per mile on a cloudy day: 0.3877\n",
    "- Probability of an automatic disengagement per mile on a clear day: 0.0938"
   ]
  },
  {
   "cell_type": "markdown",
   "metadata": {},
   "source": [
    "<font color=yellow>e.  </font>"
   ]
  },
  {
   "cell_type": "markdown",
   "metadata": {},
   "source": [
    "To answer this question, we'll use the Central Limit Theorem (CLT). The CLT states that the distribution of the sum (or average) of a large number of independent and identically distributed random variables will approximate a normal distribution, regardless of the original distribution.\n",
    "\n",
    "We will follow these steps:\n",
    "\n",
    "1. Calculate the expected number of disengagements for 10,000 miles under cloudy conditions using the probability of disengagement per mile on a cloudy day.\n",
    "2. Determine the standard deviation of disengagements for 10,000 miles.\n",
    "3. Use the normal distribution approximation to calculate the probability of having 100 or more disengagements."
   ]
  },
  {
   "cell_type": "code",
   "execution_count": 15,
   "metadata": {},
   "outputs": [
    {
     "data": {
      "text/plain": [
       "(8154.296875, 38.7948594846859, 1.0)"
      ]
     },
     "execution_count": 15,
     "metadata": {},
     "output_type": "execute_result"
    }
   ],
   "source": [
    "p_cloudy = probability_cloudy\n",
    "\n",
    "miles = 10000\n",
    "\n",
    "mean_disengagements_cloudy = p_cloudy * miles\n",
    "std_dev_disengagements_cloudy = (miles * p_cloudy * (1 - p_cloudy)) ** 0.5\n",
    "\n",
    "# Calculate the probability of having 100 or more disengagements using the normal distribution\n",
    "prob_100_or_more = 1 - stats.norm.cdf(100, loc=mean_disengagements_cloudy, scale=std_dev_disengagements_cloudy)\n",
    "mean_disengagements_cloudy, std_dev_disengagements_cloudy, prob_100_or_more"
   ]
  },
  {
   "cell_type": "markdown",
   "metadata": {},
   "source": [
    "- Expected number of disengagements in 10,000 miles: 8154.3\n",
    "- Standard deviation of disengagements: 38.79\n",
    "- The probability of having 100 or more disengagements in 10,000 miles under cloudy conditions is approximately 1.0. This result indicates that it is almost certain to have at least 100 disengagements in 10,000 miles under these conditions, given the high expected number of disengagements."
   ]
  },
  {
   "cell_type": "markdown",
   "metadata": {},
   "source": [
    "----"
   ]
  },
  {
   "cell_type": "markdown",
   "metadata": {},
   "source": [
    "2. Assuming that the disengagement per mile is a random variable with the\n",
    "distribution you answered in Task 3.1.a, and the weather condition is cloudy.\n",
    "(6points)"
   ]
  },
  {
   "cell_type": "markdown",
   "metadata": {},
   "source": [
    "<font color=yellow>a. Distribution of \"the number of miles until the next disengagement\"</font>"
   ]
  },
  {
   "cell_type": "markdown",
   "metadata": {},
   "source": [
    "The number of miles until the next disengagement can be modeled using an Exponential distribution. This is because:\n",
    "\n",
    "1. Poisson Process: If the number of disengagements per mile follows a Poisson distribution (as established in Task 3.1.a), the time (or in this case, distance) between consecutive events (disengagements) follows an Exponential distribution.\n",
    "2. Memoryless Property: The Exponential distribution is appropriate for modeling the time (or distance) between events in a Poisson process because it is memoryless. This means that the probability of a disengagement occurring in the next mile is independent of how long it has been since the last disengagement."
   ]
  },
  {
   "cell_type": "code",
   "execution_count": 16,
   "metadata": {},
   "outputs": [
    {
     "data": {
      "text/plain": [
       "(0.8154296875, 1.2263473053892215)"
      ]
     },
     "execution_count": 16,
     "metadata": {},
     "output_type": "execute_result"
    }
   ],
   "source": [
    "# The rate parameter (lambda) is the probability of disengagement per mile under cloudy conditions\n",
    "rate_lambda = probability_cloudy\n",
    "\n",
    "# For Exponential distribution, the mean and standard deviation are both equal to 1/lambda\n",
    "mean_exponential = 1 / rate_lambda\n",
    "rate_lambda, mean_exponential"
   ]
  },
  {
   "cell_type": "markdown",
   "metadata": {},
   "source": [
    "- Rate parameter (𝜆): 0.8154 (expected number of disengagements per mile under cloudy conditions)\n",
    "- Mean number of miles until the next disengagement: 1.2263 miles"
   ]
  },
  {
   "cell_type": "markdown",
   "metadata": {},
   "source": [
    "<font color=yellow>b. Distribution of “the number of disengagements in 10,000 miles</font>"
   ]
  },
  {
   "cell_type": "markdown",
   "metadata": {},
   "source": [
    "The number of disengagements in 10,000 miles follows a Binomial distribution because:\n",
    "\n",
    "1. Independent Trials: Each mile can be considered an independent trial where a disengagement either occurs or does not occur.\n",
    "2. Fixed Number of Trials: We have a fixed number of trials, 𝑛= 10,000 miles.\n",
    "3. Probability of Success: The probability of a disengagement per mile (probability of \"success\") is given by 𝑝 = 0.8154."
   ]
  },
  {
   "cell_type": "code",
   "execution_count": 20,
   "metadata": {},
   "outputs": [
    {
     "data": {
      "text/plain": [
       "(8154.296875, 1505.0411224365234, 38.7948594846859)"
      ]
     },
     "execution_count": 20,
     "metadata": {},
     "output_type": "execute_result"
    }
   ],
   "source": [
    "# Parameters for the Binomial distribution\n",
    "n_trials = 10000  # Number of miles (trials)\n",
    "p_success = probability_cloudy  # Probability of disengagement per mile (success)\n",
    "\n",
    "mean_binomial = n_trials * p_success # Mean of the Binomial distribution\n",
    "variance_binomial = n_trials * p_success * (1 - p_success) # Variance of the Binomial distribution\n",
    "std_dev_binomial = variance_binomial ** 0.5\n",
    "mean_binomial, variance_binomial, std_dev_binomial"
   ]
  },
  {
   "cell_type": "markdown",
   "metadata": {},
   "source": [
    "The parameters of the Binomial distribution for the number of disengagements in 10,000 miles under cloudy conditions are as follows:\n",
    "\n",
    "- Mean (𝜇): 8154.3 disengagements\n",
    "- Variance (𝜎2): 1505.04\n",
    "- Standard deviation (𝜎): 38.79\n",
    "\n",
    "This means, on average, there are around 8154 disengagements in 10,000 miles, with a standard deviation of approximately 38.79 disengagements under cloudy conditions."
   ]
  },
  {
   "cell_type": "markdown",
   "metadata": {},
   "source": [
    "<font color=yellow>c. Approximate Distribution:</font>"
   ]
  },
  {
   "cell_type": "markdown",
   "metadata": {},
   "source": [
    "When the number of trials n is large and the probability of success p is small, the Binomial distribution can be approximated by a Poisson distribution. This approximation is valid under the condition that the mean (𝜇 = 𝑛 × 𝑝) remains moderate.\n",
    "\n",
    "The parameter of the Poisson distribution is:\n",
    "- Rate parameter (𝜆): 𝜆 = 𝑛 × 𝑝"
   ]
  },
  {
   "cell_type": "code",
   "execution_count": 23,
   "metadata": {},
   "outputs": [
    {
     "data": {
      "text/plain": [
       "8154.296875"
      ]
     },
     "execution_count": 23,
     "metadata": {},
     "output_type": "execute_result"
    }
   ],
   "source": [
    "# Rate parameter (lambda) for the Poisson distribution\n",
    "lambda_poisson = mean_binomial\n",
    "lambda_poisson"
   ]
  },
  {
   "cell_type": "markdown",
   "metadata": {},
   "source": [
    "<font color=yellow>d. Plot the probability mass function (PMF) </font>of the distribution in Task 3.2.b and\n",
    "Task 3.2.c"
   ]
  },
  {
   "cell_type": "code",
   "execution_count": 28,
   "metadata": {},
   "outputs": [],
   "source": [
    "# Define the range for x-axis\n",
    "x_range_1 = np.arange(0, 10001)  # Range between 0 and 10000\n",
    "x_range_2 = np.arange(0, 101)    # Range between 0 and 100\n",
    "\n",
    "# Calculate the PMF for the Binomial distribution\n",
    "pmf_binomial_1 = stats.binom.pmf(x_range_1, n_trials, p_success)\n",
    "pmf_binomial_2 = stats.binom.pmf(x_range_2, n_trials, p_success)\n",
    "\n",
    "# Calculate the PMF for the Poisson distribution (using lambda from the approximation)\n",
    "pmf_poisson_1 = stats.poisson.pmf(x_range_1, lambda_poisson)\n",
    "pmf_poisson_2 = stats.poisson.pmf(x_range_2, lambda_poisson)"
   ]
  },
  {
   "cell_type": "code",
   "execution_count": 29,
   "metadata": {},
   "outputs": [
    {
     "data": {
      "image/png": "[encoded data removed]",
      "text/plain": [
       "<Figure size 1200x600 with 1 Axes>"
      ]
     },
     "metadata": {},
     "output_type": "display_data"
    }
   ],
   "source": [
    "# Plot PMF for range 0 to 10000\n",
    "plt.figure(figsize=(12, 6))\n",
    "plt.plot(x_range_1, pmf_binomial_1, label='Binomial PMF (0-10000)', color='blue', alpha=0.7)\n",
    "plt.plot(x_range_1, pmf_poisson_1, label='Poisson PMF (0-10000)', color='red', linestyle='--', alpha=0.7)\n",
    "plt.title('PMF Comparison: Binomial vs Poisson (Range 0-10000)')\n",
    "plt.xlabel('Number of Disengagements')\n",
    "plt.ylabel('Probability Mass Function')\n",
    "plt.legend()\n",
    "plt.grid()\n",
    "plt.show()\n"
   ]
  },
  {
   "cell_type": "code",
   "execution_count": 30,
   "metadata": {},
   "outputs": [
    {
     "data": {
      "image/png": "[encoded data removed]",
      "text/plain": [
       "<Figure size 1200x600 with 1 Axes>"
      ]
     },
     "metadata": {},
     "output_type": "display_data"
    }
   ],
   "source": [
    "# Plot PMF for range 0 to 100\n",
    "plt.figure(figsize=(12, 6))\n",
    "plt.plot(x_range_2, pmf_binomial_2, label='Binomial PMF (0-100)', color='blue', alpha=0.7)\n",
    "plt.plot(x_range_2, pmf_poisson_2, label='Poisson PMF (0-100)', color='red', linestyle='--', alpha=0.7)\n",
    "plt.title('PMF Comparison: Binomial vs Poisson (Range 0-100)')\n",
    "plt.xlabel('Number of Disengagements')\n",
    "plt.ylabel('Probability Mass Function')\n",
    "plt.legend()\n",
    "plt.grid()\n",
    "plt.show()"
   ]
  },
  {
   "cell_type": "markdown",
   "metadata": {},
   "source": [
    "1. Plot 1: PMF Comparison for Range 0-10,000\n",
    "\n",
    "- The probability mass function (PMF) for both the Binomial and Poisson distributions shows a sharp peak around the mean (8154 disengagements).\n",
    "- The Poisson distribution closely approximates the Binomial distribution in this range, which is expected given the large number of trials (10,000 miles) and small probability of disengagement per mile (0.8154).\n",
    "- Due to the high mean, the PMF is concentrated around the mean value, and probabilities for values far from the mean drop sharply.\n",
    "\n",
    "2.  Plot 2: PMF Comparison for Range 0-100\n",
    "\n",
    "- In this range, the PMF for both the Binomial and Poisson distributions are almost zero for all values, reflecting that it's extremely unlikely to have so few disengagements in 10,000 miles.\n",
    "- This plot emphasizes that the probability of observing less than 100 disengagements is practically zero given the high mean of approximately 8154 disengagements."
   ]
  },
  {
   "cell_type": "markdown",
   "metadata": {},
   "source": [
    "Findings:\n",
    "- The Poisson distribution serves as a good approximation for the Binomial distribution when the number of trials is large and the probability of success is small.\n",
    "- Both distributions peak around the expected value and are nearly indistinguishable at the expected mean, confirming the effectiveness of the Poisson approximation in such scenarios.\n",
    "- The visual similarity between the two distributions in the wider range (0-10,000) further supports this approximation. However, in a narrower range (0-100), both distributions show negligible probability, which aligns with the expectation of high disengagement numbers under cloudy conditions."
   ]
  },
  {
   "cell_type": "markdown",
   "metadata": {},
   "source": [
    "<font color=yellow>e. </font>"
   ]
  },
  {
   "cell_type": "markdown",
   "metadata": {},
   "source": [
    "In Task 3.1.e, we aimed to find the probability of having 100 or more disengagements in 10,000 miles under cloudy conditions. We previously calculated this probability using the Central Limit Theorem (CLT), which yielded a probability of approximately 1.0.\n",
    "\n",
    "Now, we will use the Cumulative Distribution Function (CDF) of the Poisson distribution (as determined in Task 3.2.c) to calculate the probability of having fewer than 100 disengagements. We can then subtract this probability from 1 to get the probability of having 100 or more disengagements."
   ]
  },
  {
   "cell_type": "code",
   "execution_count": 31,
   "metadata": {},
   "outputs": [
    {
     "data": {
      "text/plain": [
       "(0.0, 1.0)"
      ]
     },
     "execution_count": 31,
     "metadata": {},
     "output_type": "execute_result"
    }
   ],
   "source": [
    "# Calculate the CDF for fewer than 100 disengagements using the Poisson distribution\n",
    "cdf_less_than_100 = stats.poisson.cdf(99, lambda_poisson)\n",
    "prob_100_or_more_poisson = 1 - cdf_less_than_100\n",
    "cdf_less_than_100, prob_100_or_more_poisson"
   ]
  },
  {
   "cell_type": "markdown",
   "metadata": {},
   "source": [
    "Findings:\n",
    "- CDF for fewer than 100 disengagements P(X<100)): 0.0\n",
    "- Probability of 100 or more disengagements: 1.0\n",
    "\n",
    "This means that the probability of having fewer than 100 disengagements is virtually zero, and thus the probability of having 100 or more disengagements is effectively 1.0.\n",
    "\n",
    "Comparison:\n",
    "- Both the CLT-based approximation and the Poisson CDF calculation yield a probability of 1.0 for having 100 or more disengagements in 10,000 miles under cloudy conditions.\n",
    "- This strong agreement between the two methods further supports the robustness of our conclusion: given the high expected number of disengagements (8154.3), it is almost certain to have at least 100 disengagements."
   ]
  },
  {
   "cell_type": "markdown",
   "metadata": {},
   "source": [
    "---"
   ]
  },
  {
   "cell_type": "markdown",
   "metadata": {},
   "source": [
    "### 3. What’s the conditional probability that the reaction time is: (4 points)"
   ]
  },
  {
   "cell_type": "markdown",
   "metadata": {},
   "source": [
    "<font color=yellow>a. Greater than 0.4s given that the weather was cloudy? </font>Reaction time is\n",
    "measured only in cases where there was an automatic disengagement. (2\n",
    "points"
   ]
  },
  {
   "cell_type": "code",
   "execution_count": 33,
   "metadata": {},
   "outputs": [
    {
     "data": {
      "text/plain": [
       "0.6120906801007556"
      ]
     },
     "execution_count": 33,
     "metadata": {},
     "output_type": "execute_result"
    }
   ],
   "source": [
    "# Filter the dataset for automatic disengagements\n",
    "auto_disengagements = df[df['TypeOfTrigger'] == 'automatic']\n",
    "\n",
    "# Filter for cloudy weather and reaction time greater than 0.4s\n",
    "cloudy_disengagements = auto_disengagements[auto_disengagements['Weather'] == 'cloudy']\n",
    "cloudy_greater_0_4s = cloudy_disengagements[cloudy_disengagements['ReactionTime'] > 0.4]\n",
    "\n",
    "# Probability of ReactionTime > 0.4s given cloudy weather\n",
    "prob_cloudy_greater_0_4s = len(cloudy_greater_0_4s) / len(cloudy_disengagements)\n",
    "prob_cloudy_greater_0_4s"
   ]
  },
  {
   "cell_type": "markdown",
   "metadata": {},
   "source": [
    "Probability that the reaction time is greater than 0.4 seconds given that the weather was cloudy:\n",
    "- P(Reaction Time>0.4s∣Cloudy)=0.612\n",
    "- This indicates that there is a 61.2% chance that the reaction time exceeds 0.4 seconds in automatic disengagement cases under cloudy conditions."
   ]
  },
  {
   "cell_type": "markdown",
   "metadata": {},
   "source": [
    "<font color=yellow>b. Greater than 0.7s given that the weather was clear? </font>Reaction time is\n",
    "measured only in cases where there was an automatic disengagement. (2 points)"
   ]
  },
  {
   "cell_type": "code",
   "execution_count": 35,
   "metadata": {},
   "outputs": [
    {
     "data": {
      "text/plain": [
       "0.3854166666666667"
      ]
     },
     "execution_count": 35,
     "metadata": {},
     "output_type": "execute_result"
    }
   ],
   "source": [
    "# Filter for clear weather and reaction time greater than 0.7s\n",
    "clear_disengagements = auto_disengagements[auto_disengagements['Weather'] == 'clear']\n",
    "clear_greater_0_7s = clear_disengagements[clear_disengagements['ReactionTime'] > 0.7]\n",
    "\n",
    "# Probability of ReactionTime > 0.7s given clear weather\n",
    "prob_clear_greater_0_7s = len(clear_greater_0_7s) / len(clear_disengagements)\n",
    "prob_clear_greater_0_7s"
   ]
  },
  {
   "cell_type": "markdown",
   "metadata": {},
   "source": [
    "Probability that the reaction time is greater than 0.7 seconds given that the weather was clear:\n",
    "- P(Reaction Time>0.7s∣Clear)=0.385\n",
    "- This indicates that there is a 38.5% chance that the reaction time exceeds 0.7 seconds in automatic disengagement cases under clear conditions."
   ]
  },
  {
   "cell_type": "markdown",
   "metadata": {},
   "source": [
    "---"
   ]
  },
  {
   "cell_type": "markdown",
   "metadata": {},
   "source": [
    "### 4. A study found that an automatic AV disengagement \n",
    "will result in an accident if\n",
    "the human driver is slow in reacting. Following reactions are considered slow: (i) a\n",
    "reaction time greater than 0.4s under cloudy conditions and, (ii) a reaction time\n",
    "greater than 0.7s under clear conditions. Find the probability of an accident per mile\n",
    "due to automatic AV disengagement and slow reaction. (2 points)"
   ]
  },
  {
   "cell_type": "code",
   "execution_count": 36,
   "metadata": {},
   "outputs": [
    {
     "data": {
      "text/plain": [
       "(0.23730468749999997, 0.0361328125, 0.2734375)"
      ]
     },
     "execution_count": 36,
     "metadata": {},
     "output_type": "execute_result"
    }
   ],
   "source": [
    "# Calculate the probability of slow reaction and automatic disengagement per mile\n",
    "\n",
    "# Probability of automatic disengagement per mile under cloudy and clear conditions\n",
    "prob_auto_cloudy = automatic_disengagement_counts['cloudy'] / total_miles_driven\n",
    "prob_auto_clear = automatic_disengagement_counts['clear'] / total_miles_driven\n",
    "\n",
    "# Probability of accident per mile due to slow reaction under cloudy conditions\n",
    "prob_accident_cloudy = prob_auto_cloudy * prob_cloudy_greater_0_4s\n",
    "\n",
    "# Probability of accident per mile due to slow reaction under clear conditions\n",
    "prob_accident_clear = prob_auto_clear * prob_clear_greater_0_7s\n",
    "\n",
    "# Overall probability of an accident per mile\n",
    "prob_accident_per_mile = prob_accident_cloudy + prob_accident_clear\n",
    "\n",
    "prob_accident_cloudy, prob_accident_clear, prob_accident_per_mile"
   ]
  },
  {
   "cell_type": "markdown",
   "metadata": {},
   "source": [
    "Results:\n",
    "- Probability of an accident per mile due to slow reaction under cloudy conditions: 0.2373\n",
    "- Probability of an accident per mile due to slow reaction under clear conditions: 0.0361\n",
    "- Overall probability of an accident per mile due to automatic AV disengagement and slow reaction: 0.2734\n",
    "\n",
    "This means that, on average, there is a 27.34% chance of an accident per mile due to slow reaction times following an automatic AV disengagement, with the majority of the risk associated with cloudy weather conditions"
   ]
  },
  {
   "cell_type": "markdown",
   "metadata": {},
   "source": [
    "---"
   ]
  },
  {
   "cell_type": "markdown",
   "metadata": {},
   "source": [
    "### 5. Next, you will investigate how to diagnose the cause of an AV disengagement based on new observations.\n",
    "(4 points)"
   ]
  },
  {
   "cell_type": "markdown",
   "metadata": {},
   "source": [
    "<font color=yellow> a. An AV had a disengagement with a reaction time greater than 0.4s on a\n",
    "cloudy day. </font>What is the posterior probability that the root cause of the\n",
    "disengagement was “Software Froze”? (2 points)"
   ]
  },
  {
   "cell_type": "markdown",
   "metadata": {},
   "source": [
    "P(Software Froze∣Reaction Time>0.4s,Cloudy)=  \n",
    "- P(Reaction Time>0.4s,Cloudy∣Software Froze)×P(Software Froze)  / P(Reaction Time>0.4s,Cloudy)"
   ]
  },
  {
   "cell_type": "code",
   "execution_count": 41,
   "metadata": {},
   "outputs": [
    {
     "data": {
      "text/plain": [
       "(0.04785894206549118, 0.6842105263157895, 0.053497942386831275)"
      ]
     },
     "execution_count": 41,
     "metadata": {},
     "output_type": "execute_result"
    }
   ],
   "source": [
    "# Prior probability of \"Software Froze\" as a cause\n",
    "prior_software_froze = len(cloudy_disengagements[cloudy_disengagements['Cause'] == 'Software Froze']) / len(cloudy_disengagements)\n",
    "\n",
    "# Likelihood: Probability of ReactionTime > 0.4s on a cloudy day given \"Software Froze\"\n",
    "cloudy_software_froze = cloudy_disengagements[cloudy_disengagements['Cause'] == 'Software Froze']\n",
    "likelihood_reactiontime_given_software_froze = len(cloudy_software_froze[cloudy_software_froze['ReactionTime'] > 0.4]) / len(cloudy_software_froze)\n",
    "\n",
    "# Total probability of ReactionTime > 0.4s given cloudy conditions\n",
    "total_prob_reactiontime_cloudy = prob_cloudy_greater_0_4s\n",
    "\n",
    "# Posterior probability using Bayes' Theorem\n",
    "posterior_software_froze = (likelihood_reactiontime_given_software_froze * prior_software_froze) / total_prob_reactiontime_cloudy\n",
    "prior_software_froze, likelihood_reactiontime_given_software_froze, posterior_software_froze"
   ]
  },
  {
   "cell_type": "markdown",
   "metadata": {},
   "source": [
    "Results:\n",
    "- Prior Probability (P(Software Froze)): 0.0479\n",
    "- Likelihood ( P(Reaction Time>0.4s,Cloudy ∣ Software Froze)): 0.6842\n",
    "- Posterior Probability ( P(Software Froze ∣ Reaction Time>0.4s,Cloudy)): 0.0535\n",
    "\n",
    "This means that given a reaction time greater than 0.4 seconds on a cloudy day, the probability that the root cause of the disengagement was \"Software Froze\" is approximately 5.35%. Despite the high likelihood, the low prior probability reduces the posterior probability."
   ]
  },
  {
   "cell_type": "markdown",
   "metadata": {},
   "source": [
    "<font color=yellow> b. </font>What is the posterior probability that the root cause of the disengagement\n",
    "was <font color=yellow> “Software Froze if the disengagement happened on a clear day with reaction\n",
    "time greater than 0.7s."
   ]
  },
  {
   "cell_type": "markdown",
   "metadata": {},
   "source": [
    "Bayes' Theorem:\n",
    "\n",
    "P(Software Froze ∣ Reaction Time>0.7s,Clear)= \n",
    "- P(Reaction Time>0.7s,Clear ∣ Software Froze) × P(Software Froze) / P(Reaction Time>0.7s,Clear)  "
   ]
  },
  {
   "cell_type": "code",
   "execution_count": 43,
   "metadata": {},
   "outputs": [
    {
     "data": {
      "text/plain": [
       "(0.3125, 0.3, 0.24324324324324323)"
      ]
     },
     "execution_count": 43,
     "metadata": {},
     "output_type": "execute_result"
    }
   ],
   "source": [
    "# Prior probability of \"Software Froze\" as a cause under clear conditions\n",
    "prior_software_froze_clear = len(clear_disengagements[clear_disengagements['Cause'] == 'Software Froze']) / len(clear_disengagements)\n",
    "\n",
    "# Likelihood: Probability of ReactionTime > 0.7s on a clear day given \"Software Froze\"\n",
    "clear_software_froze = clear_disengagements[clear_disengagements['Cause'] == 'Software Froze']\n",
    "likelihood_reactiontime_given_software_froze_clear = len(clear_software_froze[clear_software_froze['ReactionTime'] > 0.7]) / len(clear_software_froze)\n",
    "\n",
    "# Total probability of ReactionTime > 0.7s given clear conditions\n",
    "total_prob_reactiontime_clear = prob_clear_greater_0_7s\n",
    "\n",
    "# Posterior probability using Bayes' Theorem\n",
    "posterior_software_froze_clear = (likelihood_reactiontime_given_software_froze_clear * prior_software_froze_clear) / total_prob_reactiontime_clear\n",
    "\n",
    "prior_software_froze_clear, likelihood_reactiontime_given_software_froze_clear, posterior_software_froze_clear"
   ]
  },
  {
   "cell_type": "markdown",
   "metadata": {},
   "source": [
    "Results:\n",
    "- Prior Probability (P(Software Froze)): 0.3125\n",
    "- Likelihood ( P(Reaction Time>0.7s, Clear ∣ Software Froze)): 0.3\n",
    "- P(Software Froze ∣ Reaction Time>0.7s, Clear): 0.2432\n",
    "\n",
    "This means that given a reaction time greater than 0.7 seconds on a clear day, the probability that the root cause of the disengagement was \"Software Froze\" is approximately 24.32%."
   ]
  },
  {
   "cell_type": "markdown",
   "metadata": {},
   "source": [
    "----"
   ]
  },
  {
   "cell_type": "markdown",
   "metadata": {},
   "source": [
    "### 6. In this question, you will construct a Naive Bayes model to infer the root cause of disengagement scenarios of AVs.\n",
    "Naive Bayes assumes that the factors are class\n",
    "conditionally independent. We assume that both Location (urban-street or highway)\n",
    "and Weather (cloudy or clear) are factors related to the Cause (consider the Cause\n",
    "has 3 different values, “Software Froze”, “Hardware Fault” or “Other”), and Location\n",
    "and Weather are independent given the Cause. Answer the following questions: (8\n",
    "points)"
   ]
  },
  {
   "cell_type": "markdown",
   "metadata": {},
   "source": [
    "<font color= 'yellow'>a. Draw a graph for the Naive Bayes model described in the question."
   ]
  },
  {
   "cell_type": "markdown",
   "metadata": {},
   "source": [
    "Structure:\n",
    "- Cause is the parent node, with three possible values: \"Software Froze\", \"Hardware Fault\", or \"Other\".\n",
    "- Location and Weather are child nodes that are conditionally independent given the Cause.\n",
    "\n",
    "Here is the graphical representation of the Naive Bayes model:"
   ]
  },
  {
   "cell_type": "code",
   "execution_count": 47,
   "metadata": {},
   "outputs": [],
   "source": [
    "#     Cause\n",
    "#    /     \\\n",
    "#   /       \\\n",
    "# Location  Weather"
   ]
  },
  {
   "cell_type": "markdown",
   "metadata": {},
   "source": [
    "In this model:\n",
    "\n",
    "- The Cause influences both Location and Weather.\n",
    "- Location and Weather are independent of each other when the value of Cause is known."
   ]
  },
  {
   "cell_type": "markdown",
   "metadata": {},
   "source": [
    "<font color= 'yellow'> b. Count the number of parameters needed to define the Naive Bayes model </font>\n",
    "\n",
    "(including the prior and the conditional probability distributions). (2 points)"
   ]
  },
  {
   "cell_type": "markdown",
   "metadata": {},
   "source": [
    "1. Prior Probabilities for Cause (3 values): 2 parameters.\n",
    "2. Conditional Probabilities:\n",
    "- Location given Cause: 3 parameters (1 for each Cause).\n",
    "- Weather given Cause: 3 parameters (1 for each Cause).\n",
    "\n",
    "Total Parameters: 2 (Prior) + 3 (Location) + 3 (Weather) = 8 parameters."
   ]
  },
  {
   "cell_type": "markdown",
   "metadata": {},
   "source": [
    "<font color= 'yellow'>  c.  Based on the number of parameters needed, derive, and show the\n",
    "conditional probability tables and prior probability from the given dataset to infer\n",
    "the Cause </font>"
   ]
  },
  {
   "cell_type": "code",
   "execution_count": 49,
   "metadata": {},
   "outputs": [],
   "source": [
    "# Calculate prior probabilities for each Cause\n",
    "prior_cause_prob = df['Cause'].value_counts(normalize=True)\n",
    "\n",
    "# Conditional probabilities for Location given Cause\n",
    "location_given_cause = pd.crosstab(df['Cause'], df['Location'], normalize='index')\n",
    "\n",
    "# Conditional probabilities for Weather given Cause\n",
    "weather_given_cause = pd.crosstab(df['Cause'], df['Weather'], normalize='index')"
   ]
  },
  {
   "cell_type": "code",
   "execution_count": 50,
   "metadata": {},
   "outputs": [
    {
     "data": {
      "text/plain": [
       "Cause\n",
       "Unwanted Driver Discomfort                 0.125000\n",
       "Recklessly behaving agent                  0.121094\n",
       "Incorrect behavior prediction of others    0.106445\n",
       "Hardware Fault                             0.101562\n",
       "System Tuning and Calibration              0.099609\n",
       "Emergency Vehicle                          0.095703\n",
       "Software Froze                             0.095703\n",
       "Incorrect Traffic Light Detection          0.093750\n",
       "Adverse road surface conditions            0.083008\n",
       "Position Estimation Failure                0.078125\n",
       "Name: proportion, dtype: float64"
      ]
     },
     "execution_count": 50,
     "metadata": {},
     "output_type": "execute_result"
    }
   ],
   "source": [
    "# 1. Prior Probability of Causes:\n",
    "prior_cause_prob"
   ]
  },
  {
   "cell_type": "code",
   "execution_count": 51,
   "metadata": {},
   "outputs": [
    {
     "data": {
      "text/html": [
       "<div>\n",
       "<style scoped>\n",
       "    .dataframe tbody tr th:only-of-type {\n",
       "        vertical-align: middle;\n",
       "    }\n",
       "\n",
       "    .dataframe tbody tr th {\n",
       "        vertical-align: top;\n",
       "    }\n",
       "\n",
       "    .dataframe thead th {\n",
       "        text-align: right;\n",
       "    }\n",
       "</style>\n",
       "<table border=\"1\" class=\"dataframe\">\n",
       "  <thead>\n",
       "    <tr style=\"text-align: right;\">\n",
       "      <th>Location</th>\n",
       "      <th>highway</th>\n",
       "      <th>urban-street</th>\n",
       "    </tr>\n",
       "    <tr>\n",
       "      <th>Cause</th>\n",
       "      <th></th>\n",
       "      <th></th>\n",
       "    </tr>\n",
       "  </thead>\n",
       "  <tbody>\n",
       "    <tr>\n",
       "      <th>Adverse road surface conditions</th>\n",
       "      <td>0.000000</td>\n",
       "      <td>1.000000</td>\n",
       "    </tr>\n",
       "    <tr>\n",
       "      <th>Emergency Vehicle</th>\n",
       "      <td>0.000000</td>\n",
       "      <td>1.000000</td>\n",
       "    </tr>\n",
       "    <tr>\n",
       "      <th>Hardware Fault</th>\n",
       "      <td>0.086538</td>\n",
       "      <td>0.913462</td>\n",
       "    </tr>\n",
       "    <tr>\n",
       "      <th>Incorrect Traffic Light Detection</th>\n",
       "      <td>0.000000</td>\n",
       "      <td>1.000000</td>\n",
       "    </tr>\n",
       "    <tr>\n",
       "      <th>Incorrect behavior prediction of others</th>\n",
       "      <td>0.000000</td>\n",
       "      <td>1.000000</td>\n",
       "    </tr>\n",
       "    <tr>\n",
       "      <th>Position Estimation Failure</th>\n",
       "      <td>0.000000</td>\n",
       "      <td>1.000000</td>\n",
       "    </tr>\n",
       "    <tr>\n",
       "      <th>Recklessly behaving agent</th>\n",
       "      <td>0.000000</td>\n",
       "      <td>1.000000</td>\n",
       "    </tr>\n",
       "    <tr>\n",
       "      <th>Software Froze</th>\n",
       "      <td>0.061224</td>\n",
       "      <td>0.938776</td>\n",
       "    </tr>\n",
       "    <tr>\n",
       "      <th>System Tuning and Calibration</th>\n",
       "      <td>0.049020</td>\n",
       "      <td>0.950980</td>\n",
       "    </tr>\n",
       "    <tr>\n",
       "      <th>Unwanted Driver Discomfort</th>\n",
       "      <td>0.000000</td>\n",
       "      <td>1.000000</td>\n",
       "    </tr>\n",
       "  </tbody>\n",
       "</table>\n",
       "</div>"
      ],
      "text/plain": [
       "Location                                  highway  urban-street\n",
       "Cause                                                          \n",
       "Adverse road surface conditions          0.000000      1.000000\n",
       "Emergency Vehicle                        0.000000      1.000000\n",
       "Hardware Fault                           0.086538      0.913462\n",
       "Incorrect Traffic Light Detection        0.000000      1.000000\n",
       "Incorrect behavior prediction of others  0.000000      1.000000\n",
       "Position Estimation Failure              0.000000      1.000000\n",
       "Recklessly behaving agent                0.000000      1.000000\n",
       "Software Froze                           0.061224      0.938776\n",
       "System Tuning and Calibration            0.049020      0.950980\n",
       "Unwanted Driver Discomfort               0.000000      1.000000"
      ]
     },
     "execution_count": 51,
     "metadata": {},
     "output_type": "execute_result"
    }
   ],
   "source": [
    "# 2. Conditional Probability Table for Location Given Cause:\n",
    "location_given_cause"
   ]
  },
  {
   "cell_type": "code",
   "execution_count": 53,
   "metadata": {},
   "outputs": [
    {
     "data": {
      "text/html": [
       "<div>\n",
       "<style scoped>\n",
       "    .dataframe tbody tr th:only-of-type {\n",
       "        vertical-align: middle;\n",
       "    }\n",
       "\n",
       "    .dataframe tbody tr th {\n",
       "        vertical-align: top;\n",
       "    }\n",
       "\n",
       "    .dataframe thead th {\n",
       "        text-align: right;\n",
       "    }\n",
       "</style>\n",
       "<table border=\"1\" class=\"dataframe\">\n",
       "  <thead>\n",
       "    <tr style=\"text-align: right;\">\n",
       "      <th>Weather</th>\n",
       "      <th>clear</th>\n",
       "      <th>cloudy</th>\n",
       "    </tr>\n",
       "    <tr>\n",
       "      <th>Cause</th>\n",
       "      <th></th>\n",
       "      <th></th>\n",
       "    </tr>\n",
       "  </thead>\n",
       "  <tbody>\n",
       "    <tr>\n",
       "      <th>Adverse road surface conditions</th>\n",
       "      <td>0.000000</td>\n",
       "      <td>1.000000</td>\n",
       "    </tr>\n",
       "    <tr>\n",
       "      <th>Emergency Vehicle</th>\n",
       "      <td>0.000000</td>\n",
       "      <td>1.000000</td>\n",
       "    </tr>\n",
       "    <tr>\n",
       "      <th>Hardware Fault</th>\n",
       "      <td>0.557692</td>\n",
       "      <td>0.442308</td>\n",
       "    </tr>\n",
       "    <tr>\n",
       "      <th>Incorrect Traffic Light Detection</th>\n",
       "      <td>0.000000</td>\n",
       "      <td>1.000000</td>\n",
       "    </tr>\n",
       "    <tr>\n",
       "      <th>Incorrect behavior prediction of others</th>\n",
       "      <td>0.000000</td>\n",
       "      <td>1.000000</td>\n",
       "    </tr>\n",
       "    <tr>\n",
       "      <th>Position Estimation Failure</th>\n",
       "      <td>0.000000</td>\n",
       "      <td>1.000000</td>\n",
       "    </tr>\n",
       "    <tr>\n",
       "      <th>Recklessly behaving agent</th>\n",
       "      <td>0.008065</td>\n",
       "      <td>0.991935</td>\n",
       "    </tr>\n",
       "    <tr>\n",
       "      <th>Software Froze</th>\n",
       "      <td>0.612245</td>\n",
       "      <td>0.387755</td>\n",
       "    </tr>\n",
       "    <tr>\n",
       "      <th>System Tuning and Calibration</th>\n",
       "      <td>0.686275</td>\n",
       "      <td>0.313725</td>\n",
       "    </tr>\n",
       "    <tr>\n",
       "      <th>Unwanted Driver Discomfort</th>\n",
       "      <td>0.000000</td>\n",
       "      <td>1.000000</td>\n",
       "    </tr>\n",
       "  </tbody>\n",
       "</table>\n",
       "</div>"
      ],
      "text/plain": [
       "Weather                                     clear    cloudy\n",
       "Cause                                                      \n",
       "Adverse road surface conditions          0.000000  1.000000\n",
       "Emergency Vehicle                        0.000000  1.000000\n",
       "Hardware Fault                           0.557692  0.442308\n",
       "Incorrect Traffic Light Detection        0.000000  1.000000\n",
       "Incorrect behavior prediction of others  0.000000  1.000000\n",
       "Position Estimation Failure              0.000000  1.000000\n",
       "Recklessly behaving agent                0.008065  0.991935\n",
       "Software Froze                           0.612245  0.387755\n",
       "System Tuning and Calibration            0.686275  0.313725\n",
       "Unwanted Driver Discomfort               0.000000  1.000000"
      ]
     },
     "execution_count": 53,
     "metadata": {},
     "output_type": "execute_result"
    }
   ],
   "source": [
    "# 3. Conditional Probability Table for Weather Given Cause:\n",
    "weather_given_cause"
   ]
  },
  {
   "cell_type": "markdown",
   "metadata": {},
   "source": [
    "Summary:\n",
    "- The prior probabilities indicate the baseline likelihood of each cause.\n",
    "- The conditional probabilities show the likelihood of observing a specific Location or Weather given the Cause.\n",
    "- These tables provide the necessary information to apply the Naive Bayes model for inferring the cause of disengagements based on new observations of location and weather conditions."
   ]
  },
  {
   "cell_type": "markdown",
   "metadata": {},
   "source": [
    "<font color = 'yellow'> d. According to the conditional probability tables you derived </font>, what is the most\n",
    "probable root cause of disengagement given the Weather was cloudy and the\n",
    "Location was urban-street"
   ]
  },
  {
   "cell_type": "markdown",
   "metadata": {},
   "source": [
    "To find the most probable root cause of disengagement given that the weather was cloudy and the location was urban-street, we need to compute the posterior probability for each cause using the Naive Bayes formula:\n",
    "- P(Cause∣Cloudy,Urban-Street)∝P(Cloudy∣Cause)×P(Urban-Street∣Cause)×P(Cause"
   ]
  },
  {
   "cell_type": "code",
   "execution_count": 55,
   "metadata": {},
   "outputs": [
    {
     "data": {
      "text/plain": [
       "(Unwanted Driver Discomfort                 0.125000\n",
       " Recklessly behaving agent                  0.120117\n",
       " Incorrect behavior prediction of others    0.106445\n",
       " Emergency Vehicle                          0.095703\n",
       " Incorrect Traffic Light Detection          0.093750\n",
       " Adverse road surface conditions            0.083008\n",
       " Position Estimation Failure                0.078125\n",
       " Hardware Fault                             0.041034\n",
       " Software Froze                             0.034837\n",
       " System Tuning and Calibration              0.029718\n",
       " dtype: float64,\n",
       " 'Unwanted Driver Discomfort')"
      ]
     },
     "execution_count": 55,
     "metadata": {},
     "output_type": "execute_result"
    }
   ],
   "source": [
    "# Calculate posterior probabilities for each cause given Weather = 'Cloudy' and Location = 'urban-street'\n",
    "\n",
    "# Filtering relevant probabilities from the tables\n",
    "posterior_probabilities = {}\n",
    "\n",
    "for cause in prior_cause_prob.index:\n",
    "    # Prior probability of the cause\n",
    "    prior = prior_cause_prob[cause]\n",
    "\n",
    "    # Conditional probability of 'Cloudy' given the cause\n",
    "    prob_cloudy_given_cause = weather_given_cause.loc[cause, 'cloudy']\n",
    "\n",
    "    # Conditional probability of 'Urban-Street' given the cause\n",
    "    prob_urban_given_cause = location_given_cause.loc[cause, 'urban-street']\n",
    "\n",
    "    # Naive Bayes formula\n",
    "    posterior = prior * prob_cloudy_given_cause * prob_urban_given_cause\n",
    "\n",
    "    # Store the result\n",
    "    posterior_probabilities[cause] = posterior\n",
    "\n",
    "# Convert to a pandas Series for easy sorting\n",
    "posterior_prob_series = pd.Series(posterior_probabilities)\n",
    "\n",
    "# Sort the causes by posterior probability in descending order\n",
    "most_probable_cause = posterior_prob_series.idxmax()\n",
    "posterior_prob_series.sort_values(ascending=False), most_probable_cause"
   ]
  },
  {
   "cell_type": "markdown",
   "metadata": {},
   "source": [
    "Results:\n",
    "- The most probable root cause of disengagement given that the weather was cloudy and the location was urban-street is \"Unwanted Driver Discomfort\".\n",
    "- \"Unwanted Driver Discomfort\" has the highest posterior probability, making it the most likely cause under these conditions."
   ]
  }
 ],
 "metadata": {
  "kernelspec": {
   "display_name": "base",
   "language": "python",
   "name": "python3"
  },
  "language_info": {
   "codemirror_mode": {
    "name": "ipython",
    "version": 3
   },
   "file_extension": ".py",
   "mimetype": "text/x-python",
   "name": "python",
   "nbconvert_exporter": "python",
   "pygments_lexer": "ipython3",
   "version": "3.10.9"
  }
 },
 "nbformat": 4,
 "nbformat_minor": 2
}
