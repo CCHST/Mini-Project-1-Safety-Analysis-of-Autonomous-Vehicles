{
 "cells": [
  {
   "cell_type": "markdown",
   "metadata": {},
   "source": [
    "##### Group 17\n",
    "##### Hsin Chun Cheng(hccheng3), Po Wei Hsu(powei2)"
   ]
  },
  {
   "cell_type": "code",
   "execution_count": 19,
   "metadata": {},
   "outputs": [],
   "source": [
    "import os\n",
    "import json\n",
    "import datetime\n",
    "import numpy as np\n",
    "import pandas as pd\n",
    "import seaborn as sns\n",
    "from scipy import stats\n",
    "from dtaidistance import dtw\n",
    "import matplotlib.pyplot as plt\n",
    "import matplotlib.dates as mdates"
   ]
  },
  {
   "cell_type": "code",
   "execution_count": 20,
   "metadata": {},
   "outputs": [
    {
     "data": {
      "text/plain": [
       "(2000, 4)"
      ]
     },
     "execution_count": 20,
     "metadata": {},
     "output_type": "execute_result"
    }
   ],
   "source": [
    "file_path = 'mp1_part3_data_2024.csv'\n",
    "df = pd.read_csv(file_path)\n",
    "df.shape"
   ]
  },
  {
   "cell_type": "code",
   "execution_count": 21,
   "metadata": {},
   "outputs": [
    {
     "name": "stdout",
     "output_type": "stream",
     "text": [
      "<class 'pandas.core.frame.DataFrame'>\n",
      "RangeIndex: 2000 entries, 0 to 1999\n",
      "Data columns (total 4 columns):\n",
      " #   Column      Non-Null Count  Dtype \n",
      "---  ------      --------------  ----- \n",
      " 0   Unnamed: 0  2000 non-null   int64 \n",
      " 1   weather     2000 non-null   object\n",
      " 2   scenario    2000 non-null   object\n",
      " 3   status      2000 non-null   object\n",
      "dtypes: int64(1), object(3)\n",
      "memory usage: 62.6+ KB\n"
     ]
    }
   ],
   "source": [
    "df.info()"
   ]
  },
  {
   "cell_type": "code",
   "execution_count": 22,
   "metadata": {},
   "outputs": [
    {
     "data": {
      "text/html": [
       "<div>\n",
       "<style scoped>\n",
       "    .dataframe tbody tr th:only-of-type {\n",
       "        vertical-align: middle;\n",
       "    }\n",
       "\n",
       "    .dataframe tbody tr th {\n",
       "        vertical-align: top;\n",
       "    }\n",
       "\n",
       "    .dataframe thead th {\n",
       "        text-align: right;\n",
       "    }\n",
       "</style>\n",
       "<table border=\"1\" class=\"dataframe\">\n",
       "  <thead>\n",
       "    <tr style=\"text-align: right;\">\n",
       "      <th></th>\n",
       "      <th>Unnamed: 0</th>\n",
       "      <th>weather</th>\n",
       "      <th>scenario</th>\n",
       "      <th>status</th>\n",
       "    </tr>\n",
       "  </thead>\n",
       "  <tbody>\n",
       "    <tr>\n",
       "      <th>0</th>\n",
       "      <td>0</td>\n",
       "      <td>clear</td>\n",
       "      <td>ghost_cutin</td>\n",
       "      <td>Completed</td>\n",
       "    </tr>\n",
       "    <tr>\n",
       "      <th>1</th>\n",
       "      <td>1</td>\n",
       "      <td>cloudy</td>\n",
       "      <td>ghost_cutin</td>\n",
       "      <td>Completed</td>\n",
       "    </tr>\n",
       "    <tr>\n",
       "      <th>2</th>\n",
       "      <td>2</td>\n",
       "      <td>rain</td>\n",
       "      <td>ghost_cutin</td>\n",
       "      <td>Completed</td>\n",
       "    </tr>\n",
       "    <tr>\n",
       "      <th>3</th>\n",
       "      <td>3</td>\n",
       "      <td>snow</td>\n",
       "      <td>ghost_cutin</td>\n",
       "      <td>Completed</td>\n",
       "    </tr>\n",
       "    <tr>\n",
       "      <th>4</th>\n",
       "      <td>4</td>\n",
       "      <td>clear</td>\n",
       "      <td>ghost_cutin</td>\n",
       "      <td>Completed</td>\n",
       "    </tr>\n",
       "  </tbody>\n",
       "</table>\n",
       "</div>"
      ],
      "text/plain": [
       "   Unnamed: 0 weather     scenario     status\n",
       "0           0   clear  ghost_cutin  Completed\n",
       "1           1  cloudy  ghost_cutin  Completed\n",
       "2           2    rain  ghost_cutin  Completed\n",
       "3           3    snow  ghost_cutin  Completed\n",
       "4           4   clear  ghost_cutin  Completed"
      ]
     },
     "execution_count": 22,
     "metadata": {},
     "output_type": "execute_result"
    }
   ],
   "source": [
    "df.head()"
   ]
  },
  {
   "cell_type": "markdown",
   "metadata": {},
   "source": [
    "##### Task4"
   ]
  },
  {
   "cell_type": "markdown",
   "metadata": {},
   "source": [
    "##### 1. Parse the provided Carla simulation dataset and calculate the following probabilities for the cut-in scenario (you need to filter our invalid data points before doing the analysis):"
   ]
  },
  {
   "cell_type": "code",
   "execution_count": 28,
   "metadata": {},
   "outputs": [
    {
     "data": {
      "text/plain": [
       "0.099"
      ]
     },
     "execution_count": 28,
     "metadata": {},
     "output_type": "execute_result"
    }
   ],
   "source": [
    "# a. The probability of accident P(acc=1) across all weather conditions.\n",
    "\n",
    "# Filter rows where the status is not 'Completed' to identify accident occurrences\n",
    "valid_data = df[df['status'] != 'Completed']  \n",
    "# Calculate the total number of data points in the dataset\n",
    "total_data_points = len(df)  \n",
    "\n",
    "# Calculate the probability of an accident, P(acc=1), across all weather conditions\n",
    "# This is done by dividing the number of accident occurrences by the total data points\n",
    "P_acc_all = len(valid_data) / total_data_points  \n",
    "\n",
    "# Output the overall accident probability\n",
    "P_acc_all"
   ]
  },
  {
   "cell_type": "code",
   "execution_count": 29,
   "metadata": {},
   "outputs": [
    {
     "data": {
      "text/plain": [
       "weather\n",
       "clear     0.024\n",
       "cloudy    0.054\n",
       "rain      0.130\n",
       "snow      0.188\n",
       "dtype: float64"
      ]
     },
     "execution_count": 29,
     "metadata": {},
     "output_type": "execute_result"
    }
   ],
   "source": [
    "# b. The probability of an accident conditioned on the weather, P(acc=1 | weather=?), for each weather condition.\n",
    "# Create a new column 'accident' where an accident occurrence is marked as 1 if status is not 'Completed', otherwise 0\n",
    "df['accident'] = df['status'].apply(lambda x: 1 if x != 'Completed' else 0)\n",
    "\n",
    "# Calculate the total number of occurrences for each weather condition\n",
    "weather_counts = df.groupby('weather').size()\n",
    "\n",
    "# Calculate the number of accidents for each weather condition\n",
    "weather_accidents = df.groupby('weather')['accident'].sum()\n",
    "\n",
    "# Calculate the probability of an accident given each weather condition, P(acc=1 | weather=?)\n",
    "# This is done by dividing the number of accidents by the total occurrences for each weather condition\n",
    "P_acc_weather = weather_accidents / weather_counts\n",
    "\n",
    "# Output the conditional probability of an accident for each weather condition\n",
    "P_acc_weather"
   ]
  },
  {
   "cell_type": "markdown",
   "metadata": {},
   "source": [
    "##### 2. The baseline simulated dataset contains accident information for snowy conditions and rainy conditions. In California it is sunny 80% of the time, rainy 5% of the time, snowy 2% of the time and cloudy the rest of the time. In Chicago, it is sunny 60% of the time, it rains 15% and it is snowy 20% of the time, and cloudy the rest of the time. Calculate the probability of an accident in the cut-in scenario for California and Chicago, respectively."
   ]
  },
  {
   "cell_type": "code",
   "execution_count": 30,
   "metadata": {},
   "outputs": [
    {
     "data": {
      "text/plain": [
       "(np.float64(0.03648), np.float64(0.0742))"
      ]
     },
     "execution_count": 30,
     "metadata": {},
     "output_type": "execute_result"
    }
   ],
   "source": [
    "# Calculate the weighted average probability of an accident in California\n",
    "# based on the weather distribution in California\n",
    "P_acc_california = (0.80 * P_acc_weather['clear'] +  # 80% clear weather\n",
    "                    0.05 * P_acc_weather['rain'] +   # 5% rainy weather\n",
    "                    0.02 * P_acc_weather['snow'] +   # 2% snowy weather\n",
    "                    0.13 * P_acc_weather['cloudy'])  # 13% cloudy weather\n",
    "\n",
    "# Calculate the weighted average probability of an accident in Chicago\n",
    "# based on the weather distribution in Chicago\n",
    "P_acc_chicago = (0.60 * P_acc_weather['clear'] +    # 60% clear weather\n",
    "                 0.15 * P_acc_weather['rain'] +     # 15% rainy weather\n",
    "                 0.20 * P_acc_weather['snow'] +     # 20% snowy weather\n",
    "                 0.05 * P_acc_weather['cloudy'])    # 5% cloudy weather\n",
    "\n",
    "# Output the overall probability of an accident for California and Chicago\n",
    "P_acc_california, P_acc_chicago"
   ]
  },
  {
   "cell_type": "markdown",
   "metadata": {},
   "source": [
    "##### 3. In Part 2, Task 3.4, you calculated the AV’s probability of an accident per mile for the California DMV dataset. Suppose you want to compare the simulated accident rate with the real dataset accident rate."
   ]
  },
  {
   "cell_type": "code",
   "execution_count": 31,
   "metadata": {},
   "outputs": [
    {
     "data": {
      "text/plain": [
       "(np.float64(0.02064516129032258),\n",
       " np.float64(0.007548387096774193),\n",
       " np.float64(0.028193548387096774))"
      ]
     },
     "execution_count": 31,
     "metadata": {},
     "output_type": "execute_result"
    }
   ],
   "source": [
    "# a. Unfortunately, the real DMV data only includes sunny and cloudy weather conditions.\n",
    "# i. To make a reasonable comparison between the accident probabilities in the simulated dataset and the real dataset,\n",
    "#    we will adjust the simulated data's probabilities to only include sunny and cloudy conditions.\n",
    "\n",
    "# Calculate the adjusted weights for sunny and cloudy weather based on their proportions\n",
    "a = 0.8 / (0.8 + 0.13)  # Weight for sunny (clear) weather\n",
    "b = 0.13 / (0.8 + 0.13)  # Weight for cloudy weather\n",
    "\n",
    "# Adjusted probability of an accident under sunny (clear) weather in the simulated dataset\n",
    "P_sim_sunny = a * P_acc_weather['clear']\n",
    "\n",
    "# Adjusted probability of an accident under cloudy weather in the simulated dataset\n",
    "P_sim_cloudy = b * P_acc_weather['cloudy']\n",
    "\n",
    "# Combined probability of an accident considering only sunny and cloudy weather conditions in the simulated dataset\n",
    "P_sim_sunny_cloudy = a * P_acc_weather['clear'] + b * P_acc_weather['cloudy']\n",
    "\n",
    "# Output the probabilities for sunny, cloudy, and combined sunny/cloudy conditions in the simulated dataset\n",
    "P_sim_sunny, P_sim_cloudy, P_sim_sunny_cloudy"
   ]
  },
  {
   "cell_type": "code",
   "execution_count": 32,
   "metadata": {},
   "outputs": [],
   "source": [
    "# ii. the probability you calculated in Part2, Task 3.4 = the AV’s marginal (unconditional) accident rate per mile for the real CA DMV dataset. \n",
    "accident_prob_per_mile_clear, accident_prob_per_mile_cloudy, total_accident_prob_per_mile = (0.00010171405221966454, 0.0017264475242685948, 0.0018281615764882593)"
   ]
  }
 ],
 "metadata": {
  "kernelspec": {
   "display_name": "Python 3",
   "language": "python",
   "name": "python3"
  },
  "language_info": {
   "codemirror_mode": {
    "name": "ipython",
    "version": 3
   },
   "file_extension": ".py",
   "mimetype": "text/x-python",
   "name": "python",
   "nbconvert_exporter": "python",
   "pygments_lexer": "ipython3",
   "version": "3.12.5"
  }
 },
 "nbformat": 4,
 "nbformat_minor": 2
}
