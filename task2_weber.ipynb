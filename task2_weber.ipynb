{
 "cells": [
  {
   "cell_type": "code",
   "execution_count": 80,
   "metadata": {},
   "outputs": [],
   "source": [
    "import pandas as pd\n",
    "import os\n",
    "import json\n",
    "import matplotlib.pyplot as plt"
   ]
  },
  {
   "cell_type": "code",
   "execution_count": null,
   "metadata": {},
   "outputs": [],
   "source": [
    "df = pd.read_csv(\"combined_df.csv\")\n",
    "df.shape"
   ]
  },
  {
   "cell_type": "code",
   "execution_count": null,
   "metadata": {},
   "outputs": [],
   "source": [
    "df['scenario'].value_counts()"
   ]
  },
  {
   "cell_type": "code",
   "execution_count": null,
   "metadata": {},
   "outputs": [],
   "source": [
    "df.head()"
   ]
  },
  {
   "cell_type": "markdown",
   "metadata": {},
   "source": [
    "1. Suppose each simulation run has a result of accident/non-accident, calculate the \n",
    "probability of accident (counts, marginal probability). Hint: for each run, the \n",
    "collision results are stored in ‘route_highway.txt’. You can check the accident \n",
    "status by looking at the ‘status’ field under the ‘record’ section (‘Completed’ means \n",
    "no accident; ‘Failed’ means an accident has occurred). (1 point) "
   ]
  },
  {
   "cell_type": "code",
   "execution_count": null,
   "metadata": {},
   "outputs": [],
   "source": [
    "scenario_status = df.groupby('scenario')['status'].nunique()\n",
    "scenario_status"
   ]
  },
  {
   "cell_type": "code",
   "execution_count": null,
   "metadata": {},
   "outputs": [],
   "source": [
    "total_runs = df.drop_duplicates(subset=[\"scenario\"]).shape[0]\n",
    "accident_runs = df[df['status'] == 'Failed'].drop_duplicates(subset=[\"scenario\"]).shape[0]\n",
    "print(f\"Total number of distinct simulation runs: {total_runs}\")\n",
    "print(f\"Number of accident runs: {accident_runs}\")\n",
    "accident_probability = accident_runs / total_runs\n",
    "print(f\"Accident probability: {accident_probability:.4f}\")"
   ]
  },
  {
   "cell_type": "markdown",
   "metadata": {},
   "source": [
    "2. By looking at the completion records and the plots you generated in Task 1, under\n",
    "- which weather condition(s) did the accident happen?\n",
    "- Does that match your guess in Task 1?\n",
    "- When did the accident happen during those simulation runs?\n",
    "- Why do you think the accident happened at that instance? Discuss each accident case separately. (2 points)"
   ]
  },
  {
   "cell_type": "code",
   "execution_count": 86,
   "metadata": {},
   "outputs": [],
   "source": [
    "pd.set_option('display.max_columns', None)\n",
    "df['normalized_ts'] = df.groupby('scenario')['ts'].transform(lambda x: x - x.min())"
   ]
  },
  {
   "cell_type": "code",
   "execution_count": 87,
   "metadata": {},
   "outputs": [],
   "source": [
    "rain_noon_df = df[df['scenario']=='rain-noon']"
   ]
  },
  {
   "cell_type": "code",
   "execution_count": null,
   "metadata": {},
   "outputs": [],
   "source": [
    "\n",
    "plt.figure(figsize=(10, 6))\n",
    "\n",
    "plt.plot(rain_noon_df['normalized_ts'], rain_noon_df['brake'], label='Brake', color='red')\n",
    "\n",
    "# speed(v)\n",
    "# plt.plot(rain_noon_df['normalized_ts'], rain_noon_df['v'], label='Speed (v)', color='blue')\n",
    "\n",
    "# (throttle)\n",
    "plt.plot(rain_noon_df['normalized_ts'], rain_noon_df['throttle'], label='Throttle', color='green')\n",
    "\n",
    "plt.title(\"Rain-Noon Scenario: Time (Normalized) vs Brake, Speed, and Throttle\")\n",
    "plt.xlabel(\"Normalized Time\")\n",
    "plt.ylabel(\"Value\")\n",
    "plt.legend()\n",
    "plt.grid(True)\n",
    "plt.show()\n"
   ]
  },
  {
   "cell_type": "code",
   "execution_count": null,
   "metadata": {},
   "outputs": [],
   "source": [
    "rain_noon_df.tail(3)"
   ]
  },
  {
   "cell_type": "code",
   "execution_count": null,
   "metadata": {},
   "outputs": [],
   "source": [
    "accident_brake_data = rain_noon_df[rain_noon_df['brake'] == 1]\n",
    "accident_brake_data.head()"
   ]
  },
  {
   "cell_type": "code",
   "execution_count": null,
   "metadata": {},
   "outputs": [],
   "source": [
    "filtered_rain_noon_df = rain_noon_df[(rain_noon_df['normalized_ts'] >= 370) & (rain_noon_df['normalized_ts'] <= 400)]\n",
    "plt.figure(figsize=(10, 6))\n",
    "\n",
    "plt.plot(filtered_rain_noon_df['ts'], filtered_rain_noon_df['brake'], label='Brake', color='blue')\n",
    "# plt.plot(filtered_rain_noon_df['ts'], filtered_rain_noon_df['v'], label='Speed (v)', color='blue')\n",
    "plt.plot(filtered_rain_noon_df['ts'], filtered_rain_noon_df['throttle'], label='Throttle', color='green')\n",
    "plt.axvline(x=14572, color='red', linestyle='--', label='ts = 14572')\n",
    "\n",
    "plt.title(\"Rain-Noon Scenario: Time (ts) vs Brake, Speed, and Throttle\")\n",
    "plt.xlabel(\"Time (ts)\")\n",
    "plt.ylabel(\"Value\")\n",
    "plt.legend()\n",
    "plt.grid(True)\n",
    "plt.show()\n"
   ]
  },
  {
   "cell_type": "code",
   "execution_count": null,
   "metadata": {},
   "outputs": [],
   "source": [
    "filtered_rain_noon_df = rain_noon_df[(rain_noon_df['normalized_ts'] >= 375) & (rain_noon_df['normalized_ts'] <= 400)]\n",
    "\n",
    "plt.figure(figsize=(10, 6))\n",
    "\n",
    "plt.plot(filtered_rain_noon_df['normalized_ts'], filtered_rain_noon_df['brake'], label='Brake', color='red')\n",
    "plt.plot(filtered_rain_noon_df['normalized_ts'], filtered_rain_noon_df['v'], label='Speed (v)', color='blue')\n",
    "plt.plot(filtered_rain_noon_df['normalized_ts'], filtered_rain_noon_df['throttle'], label='Throttle', color='green')\n",
    "\n",
    "plt.title(\"Rain-Noon Scenario: Time (375-400, Normalized) vs Brake, Speed, and Throttle\")\n",
    "plt.xlabel(\"Normalized Time (375 - 400)\")\n",
    "plt.ylabel(\"Value\")\n",
    "plt.legend()\n",
    "plt.grid(True)\n",
    "plt.show()\n"
   ]
  },
  {
   "cell_type": "code",
   "execution_count": null,
   "metadata": {},
   "outputs": [],
   "source": [
    "df.iloc[4260:4280]"
   ]
  },
  {
   "cell_type": "code",
   "execution_count": null,
   "metadata": {},
   "outputs": [],
   "source": []
  },
  {
   "cell_type": "markdown",
   "metadata": {},
   "source": [
    "-----"
   ]
  },
  {
   "cell_type": "code",
   "execution_count": 94,
   "metadata": {},
   "outputs": [],
   "source": [
    "import matplotlib.pyplot as plt\n",
    "features = ['throttle', 'steer', 'brake', 'cvip', 'x', 'y', 'v']"
   ]
  },
  {
   "cell_type": "code",
   "execution_count": null,
   "metadata": {},
   "outputs": [],
   "source": [
    "filtered_df = df[(df['normalized_ts'] >= 375) & (df['normalized_ts'] <= 400)]\n",
    "\n",
    "# Create a plot for each feature with 'normalized_ts' as the x-axis and different scenarios as different lines\n",
    "for feature in features:\n",
    "    plt.figure(figsize=(10, 6))\n",
    "    # Plot each scenario as a line\n",
    "    for scenario in filtered_df['scenario'].unique():\n",
    "        scenario_data = filtered_df[filtered_df['scenario'] == scenario]\n",
    "        plt.plot(scenario_data['normalized_ts'], scenario_data[feature], label=scenario)\n",
    "    plt.title(f'{feature} Over Normalized Time for Different Scenarios')\n",
    "    plt.xlabel('Normalized Timestamp')\n",
    "    plt.ylabel(feature)\n",
    "    plt.legend(title='Scenario')\n",
    "    plt.grid(True)\n",
    "    plt.show()"
   ]
  },
  {
   "cell_type": "markdown",
   "metadata": {},
   "source": [
    "rain-noon, clear-noon, clear-sunset"
   ]
  },
  {
   "cell_type": "markdown",
   "metadata": {},
   "source": [
    "(我們取出車禍前後的時段來觀察 )由於 rain-noon, clear-noon, clear-sunset 這三個scneario 在x,y 軸上幾乎是相同的，因此拿出來討論。\n",
    "注意，這裡我們有將ts 標準化，也就是讓每一個scneario的起始點變成是0\n",
    "當車禍要發生時，rain-noon首先比其他兩個scenario晚踩煞車，然後它的煞車也是斷斷續續，猜測有可能是系統沒設定好，導致最後速度並沒有像是其他兩個scenario一樣把速度減下來(從下方的v圖可以看出)"
   ]
  },
  {
   "cell_type": "code",
   "execution_count": null,
   "metadata": {},
   "outputs": [],
   "source": [
    "# scenarios_to_analyze = ['rain-noon', 'clear-noon', 'clear-sunset']\n",
    "# filtered_df = df[df['scenario'].isin(scenarios_to_analyze)]\n",
    "filtered_df = filtered_df[(filtered_df['normalized_ts'] >= 375) & (df['normalized_ts'] <= 400)]\n",
    "\n",
    "features = ['brake', 'v', 'throttle', 'cvip', 'x','y']\n",
    "\n",
    "for feature in features:\n",
    "    plt.figure(figsize=(10, 6))\n",
    "    for scenario in filtered_df['scenario'].unique():\n",
    "        scenario_data = filtered_df[filtered_df['scenario'] == scenario]\n",
    "        plt.plot(scenario_data['normalized_ts'], scenario_data[feature], label=scenario)\n",
    "    plt.title(f'{feature} Over Normalized Time for Different Scenarios')\n",
    "    plt.xlabel('Normalized Timestamp')\n",
    "    plt.ylabel(feature)\n",
    "    plt.axvline(x=382, color='red', linestyle='--', label='accident ts')\n",
    "    plt.legend(title='Scenario')\n",
    "    plt.grid(True)\n",
    "    plt.show()\n"
   ]
  },
  {
   "cell_type": "code",
   "execution_count": null,
   "metadata": {},
   "outputs": [],
   "source": [
    "for feature in features:\n",
    "    plt.figure(figsize=(10, 6))\n",
    "    # Plot each scenario as a line\n",
    "    for scenario in df['scenario'].unique():\n",
    "        scenario_data = df[df['scenario'] == scenario]\n",
    "        plt.plot(scenario_data['normalized_ts'], scenario_data[feature], label=scenario)\n",
    "    plt.title(f'{feature} Over Normalized Time for Different Scenarios')\n",
    "    plt.xlabel('Normalized Timestamp')\n",
    "    plt.ylabel(feature)\n",
    "    plt.legend(title='Scenario')\n",
    "    plt.grid(True)\n",
    "    plt.show()"
   ]
  },
  {
   "cell_type": "code",
   "execution_count": null,
   "metadata": {},
   "outputs": [],
   "source": []
  },
  {
   "cell_type": "code",
   "execution_count": null,
   "metadata": {},
   "outputs": [],
   "source": [
    "# Limit the plot to normalized time greater than 10 seconds\n",
    "feature = 'cvip'\n",
    "\n",
    "plt.figure(figsize=(10, 6))\n",
    "# Plot each scenario as a line, restricting to normalized_ts > 10\n",
    "for scenario in df['scenario'].unique():\n",
    "    scenario_data = df[(df['scenario'] == scenario) & (df['normalized_ts'] > 10)]\n",
    "    plt.plot(scenario_data['normalized_ts'], scenario_data[feature], label=scenario)\n",
    "\n",
    "plt.title(f'{feature} Over Normalized Time (After 10 seconds) for Different Scenarios')\n",
    "plt.xlabel('Normalized Timestamp')\n",
    "plt.ylabel(feature)\n",
    "plt.legend(title='Scenario')\n",
    "plt.grid(True)\n",
    "plt.show()\n"
   ]
  },
  {
   "cell_type": "code",
   "execution_count": null,
   "metadata": {},
   "outputs": [],
   "source": [
    "# Limit the plot to normalized time between 350 and 450 seconds\n",
    "for feature in features:\n",
    "    plt.figure(figsize=(10, 6))\n",
    "    # Plot each scenario as a line, restricting to normalized_ts between 350 and 450\n",
    "    for scenario in df['scenario'].unique():\n",
    "        scenario_data = df[(df['scenario'] == scenario) &\n",
    "                                    (df['normalized_ts'] >= 360) &\n",
    "                                    (df['normalized_ts'] <= 450)]\n",
    "        plt.plot(scenario_data['normalized_ts'], scenario_data[feature], label=scenario)\n",
    "    plt.title(f'{feature} Over Normalized Time (350-450 seconds) for Different Scenarios')\n",
    "    plt.xlabel('Normalized Timestamp')\n",
    "    plt.ylabel(feature)\n",
    "    plt.legend(title='Scenario')\n",
    "    plt.grid(True)\n",
    "    plt.show()\n"
   ]
  },
  {
   "cell_type": "code",
   "execution_count": null,
   "metadata": {},
   "outputs": [],
   "source": [
    "selected_scenarios = ['clear-noon', 'clear-sunset', 'rain-noon']\n",
    "for feature in features:\n",
    "    plt.figure(figsize=(10, 6))\n",
    "    # Plot each selected scenario as a line, restricting to normalized_ts between 350 and 450\n",
    "    for scenario in selected_scenarios:\n",
    "        scenario_data = df[(df['scenario'] == scenario) &\n",
    "                                    (df['normalized_ts'] >= 360) &\n",
    "                                    (df['normalized_ts'] <= 450)]\n",
    "        plt.plot(scenario_data['normalized_ts'], scenario_data[feature], label=scenario)\n",
    "    \n",
    "    plt.title(f'{feature} Over Normalized Time (360-450 seconds) for Selected Scenarios')\n",
    "    plt.xlabel('Normalized Timestamp')\n",
    "    plt.ylabel(feature)\n",
    "    plt.legend(title='Scenario')\n",
    "    plt.grid(True)\n",
    "    plt.show()"
   ]
  },
  {
   "cell_type": "markdown",
   "metadata": {},
   "source": [
    "---"
   ]
  },
  {
   "cell_type": "markdown",
   "metadata": {},
   "source": [
    "### Q4."
   ]
  },
  {
   "cell_type": "code",
   "execution_count": null,
   "metadata": {},
   "outputs": [],
   "source": [
    "import matplotlib.pyplot as plt\n",
    "import seaborn as sns\n",
    "from scipy import stats\n",
    "\n",
    "# Separate normal and abnormal runs based on 'status' column\n",
    "normal_runs = df[df['status'] == 'Completed']\n",
    "abnormal_runs = df[df['status'] != 'Completed']\n",
    "\n",
    "# List of features to study\n",
    "features = [\"brake\", \"steer\", \"v\", \"y\", \"x\", \"cvip\", \"throttle\"]\n",
    "\n",
    "# Plot density distribution for each feature\n",
    "plt.figure(figsize=(15, 12))\n",
    "for i, feature in enumerate(features):\n",
    "    plt.subplot(3, 3, i + 1)\n",
    "    sns.kdeplot(normal_runs[feature], label='Normal', color='green')\n",
    "    sns.kdeplot(abnormal_runs[feature], label='Abnormal', color='red')\n",
    "    plt.title(f'Distribution of {feature}')\n",
    "    plt.xlabel(feature)\n",
    "    plt.ylabel('Density')\n",
    "    plt.legend()\n",
    "\n",
    "plt.tight_layout()\n",
    "plt.show()"
   ]
  },
  {
   "cell_type": "code",
   "execution_count": null,
   "metadata": {},
   "outputs": [],
   "source": [
    "# Descriptive analysis for 'steer' feature\n",
    "steer_normal_mean = normal_runs['steer'].mean()\n",
    "steer_abnormal_mean = abnormal_runs['steer'].mean()\n",
    "steer_normal_std = normal_runs['steer'].std()\n",
    "steer_abnormal_std = abnormal_runs['steer'].std()\n",
    "\n",
    "# Print descriptive analysis\n",
    "steer_description = {\n",
    "    'normal_mean': steer_normal_mean,\n",
    "    'abnormal_mean': steer_abnormal_mean,\n",
    "    'normal_std': steer_normal_std,\n",
    "    'abnormal_std': steer_abnormal_std\n",
    "}\n",
    "\n",
    "steer_description"
   ]
  },
  {
   "cell_type": "code",
   "execution_count": null,
   "metadata": {},
   "outputs": [],
   "source": [
    "# Check variance equality\n",
    "var_equal = stats.levene(normal_runs['steer'], abnormal_runs['steer']).pvalue > 0.05\n",
    "\n",
    "# Perform two-sample t-test\n",
    "t_stat, p_value = stats.ttest_ind(normal_runs['steer'], abnormal_runs['steer'], equal_var=var_equal)\n",
    "\n",
    "# Determine if we reject the null hypothesis at 0.05 significance level\n",
    "reject_null = p_value < 0.05\n",
    "\n",
    "# Return test results\n",
    "t_test_results = {\n",
    "    't_statistic': t_stat,\n",
    "    'p_value': p_value,\n",
    "    'variance_equal': var_equal,\n",
    "    'reject_null': reject_null\n",
    "}\n",
    "\n",
    "t_test_results\n"
   ]
  },
  {
   "cell_type": "markdown",
   "metadata": {},
   "source": [
    "### Q5."
   ]
  },
  {
   "cell_type": "code",
   "execution_count": null,
   "metadata": {},
   "outputs": [],
   "source": [
    "# Calculate the Pearson correlation coefficient between the identified features\n",
    "correlation_matrix = df[['steer', 'v', 'cvip']].corr()\n",
    "\n",
    "# Display the correlation matrix\n",
    "correlation_matrix\n"
   ]
  },
  {
   "cell_type": "markdown",
   "metadata": {},
   "source": [
    "### Q6. "
   ]
  },
  {
   "cell_type": "code",
   "execution_count": null,
   "metadata": {},
   "outputs": [],
   "source": [
    "# Perform Kolmogorov-Smirnov two-sample test for each feature\n",
    "ks_results = {}\n",
    "\n",
    "# Perform KS test for 'steer'\n",
    "ks_stat_steer, ks_pvalue_steer = stats.ks_2samp(normal_runs['steer'], abnormal_runs['steer'])\n",
    "ks_results['steer'] = {'ks_statistic': ks_stat_steer, 'p_value': ks_pvalue_steer}\n",
    "\n",
    "# Perform KS test for 'v'\n",
    "ks_stat_v, ks_pvalue_v = stats.ks_2samp(normal_runs['v'], abnormal_runs['v'])\n",
    "ks_results['v'] = {'ks_statistic': ks_stat_v, 'p_value': ks_pvalue_v}\n",
    "\n",
    "# Perform KS test for 'cvip'\n",
    "ks_stat_cvip, ks_pvalue_cvip = stats.ks_2samp(normal_runs['cvip'], abnormal_runs['cvip'])\n",
    "ks_results['cvip'] = {'ks_statistic': ks_stat_cvip, 'p_value': ks_pvalue_cvip}\n",
    "\n",
    "ks_results"
   ]
  },
  {
   "cell_type": "code",
   "execution_count": null,
   "metadata": {},
   "outputs": [],
   "source": [
    "# Perform Kolmogorov-Smirnov two-sample test for the features not selected as indicators\n",
    "not_selected_features = ['brake', 'y', 'x', 'throttle']\n",
    "ks_results_not_selected = {}\n",
    "\n",
    "for feature in not_selected_features:\n",
    "    ks_stat, ks_pvalue = stats.ks_2samp(normal_runs[feature], abnormal_runs[feature])\n",
    "    ks_results_not_selected[feature] = {'ks_statistic': ks_stat, 'p_value': ks_pvalue}\n",
    "\n",
    "# Display the results\n",
    "ks_results_not_selected"
   ]
  },
  {
   "cell_type": "code",
   "execution_count": null,
   "metadata": {},
   "outputs": [],
   "source": []
  },
  {
   "cell_type": "markdown",
   "metadata": {},
   "source": [
    "### Q8. "
   ]
  },
  {
   "cell_type": "code",
   "execution_count": 111,
   "metadata": {},
   "outputs": [],
   "source": [
    "# !pip install dtaidistance"
   ]
  },
  {
   "cell_type": "code",
   "execution_count": null,
   "metadata": {},
   "outputs": [],
   "source": [
    "from dtaidistance import dtw\n",
    "\n",
    "# 提取三個不同場景的 steering 數據：clear-noon（基準）、clear-night 和 clear-sunset\n",
    "steer_clear_noon = df[df['scenario'] == 'clear-noon']['steer'].values\n",
    "steer_clear_night = df[df['scenario'] == 'clear-night']['steer'].values\n",
    "steer_clear_sunset = df[df['scenario'] == 'clear-sunset']['steer'].values\n",
    "\n",
    "# 計算 DTW 距離\n",
    "dtw_distance_night = dtw.distance(steer_clear_noon, steer_clear_night)\n",
    "dtw_distance_sunset = dtw.distance(steer_clear_noon, steer_clear_sunset)\n",
    "\n",
    "# 顯示 DTW 距離\n",
    "print(f\"DTW Distance (Clear-Noon vs Clear-Night): {dtw_distance_night}\")\n",
    "print(f\"DTW Distance (Clear-Noon vs Clear-Sunset): {dtw_distance_sunset}\")\n"
   ]
  },
  {
   "cell_type": "markdown",
   "metadata": {},
   "source": [
    "----"
   ]
  },
  {
   "cell_type": "markdown",
   "metadata": {},
   "source": [
    "(my thought)"
   ]
  },
  {
   "cell_type": "code",
   "execution_count": null,
   "metadata": {},
   "outputs": [],
   "source": [
    "# Normalizing the 'ts' column within each 'scenario'\n",
    "df['normalized_ts'] = df.groupby('scenario')['ts'].transform(lambda x: x - x.min())\n",
    "filtered_df = df[df['normalized_ts'] <= 401]\n",
    "# filtered_df.head()\n",
    "filtered_df['scenario'].value_counts()"
   ]
  },
  {
   "cell_type": "code",
   "execution_count": null,
   "metadata": {},
   "outputs": [],
   "source": [
    "import matplotlib.pyplot as plt\n",
    "import seaborn as sns\n",
    "from scipy import stats\n",
    "\n",
    "# Separate normal and abnormal runs based on 'status' column\n",
    "normal_runs = filtered_df[filtered_df['status'] == 'Completed']\n",
    "abnormal_runs = filtered_df[filtered_df['status'] != 'Completed']\n",
    "\n",
    "# List of features to study\n",
    "features = [\"brake\", \"steer\", \"v\", \"y\", \"x\", \"cvip\", \"throttle\"]\n",
    "\n",
    "# Plot density distribution for each feature\n",
    "plt.figure(figsize=(15, 12))\n",
    "for i, feature in enumerate(features):\n",
    "    plt.subplot(3, 3, i + 1)\n",
    "    sns.kdeplot(normal_runs[feature], label='Normal', color='green')\n",
    "    sns.kdeplot(abnormal_runs[feature], label='Abnormal', color='red')\n",
    "    plt.title(f'Distribution of {feature}')\n",
    "    plt.xlabel(feature)\n",
    "    plt.ylabel('Density')\n",
    "    plt.legend()\n",
    "\n",
    "plt.tight_layout()\n",
    "plt.show()"
   ]
  },
  {
   "cell_type": "code",
   "execution_count": null,
   "metadata": {},
   "outputs": [],
   "source": []
  }
 ],
 "metadata": {
  "kernelspec": {
   "display_name": "base",
   "language": "python",
   "name": "python3"
  },
  "language_info": {
   "codemirror_mode": {
    "name": "ipython",
    "version": 3
   },
   "file_extension": ".py",
   "mimetype": "text/x-python",
   "name": "python",
   "nbconvert_exporter": "python",
   "pygments_lexer": "ipython3",
   "version": "3.10.9"
  }
 },
 "nbformat": 4,
 "nbformat_minor": 2
}
