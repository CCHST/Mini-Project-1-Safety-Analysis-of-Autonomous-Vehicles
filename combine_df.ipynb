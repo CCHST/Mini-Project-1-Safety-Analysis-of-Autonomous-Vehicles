{
 "cells": [
  {
   "cell_type": "code",
   "execution_count": 1,
   "metadata": {},
   "outputs": [],
   "source": [
    "import os\n",
    "import json\n",
    "import pandas as pd"
   ]
  },
  {
   "cell_type": "code",
   "execution_count": 2,
   "metadata": {},
   "outputs": [],
   "source": [
    "# Set the base directory for the simulation results\n",
    "data_dir = os.path.join(os.getcwd(), 'simulation_results')\n",
    "\n",
    "# Define the list of scenarios and CSV types\n",
    "scenarios = ['clear-night', 'clear-noon', 'clear-sunset', 'haze-noon', 'haze-sunset', 'rain-noon']\n",
    "csvs = ['ctl', 'cvip', 'traj']"
   ]
  },
  {
   "cell_type": "code",
   "execution_count": 3,
   "metadata": {},
   "outputs": [],
   "source": [
    "# Function to read the route_highway.txt file\n",
    "def read_route_highway_txt(file_path):\n",
    "    with open(file_path, 'r') as file:\n",
    "        data = json.load(file)\n",
    "        # Extract necessary fields from JSON-like data\n",
    "        return {\n",
    "            'duration_game': data['_checkpoint']['records'][0]['meta']['duration_game'],\n",
    "            'duration_system': data['_checkpoint']['records'][0]['meta']['duration_system'],\n",
    "            'route_length': data['_checkpoint']['records'][0]['meta']['route_length'],\n",
    "            'score_composed': data['_checkpoint']['records'][0]['scores']['score_composed'],\n",
    "            'score_penalty': data['_checkpoint']['records'][0]['scores']['score_penalty'],\n",
    "            'score_route': data['_checkpoint']['records'][0]['scores']['score_route'],\n",
    "            'status': data['_checkpoint']['records'][0]['status']\n",
    "        }\n",
    "\n",
    "# Function to read CSV files\n",
    "def read_csv_file(file_path):\n",
    "    return pd.read_csv(file_path)"
   ]
  },
  {
   "cell_type": "code",
   "execution_count": 4,
   "metadata": {},
   "outputs": [],
   "source": [
    "df_list = []"
   ]
  },
  {
   "cell_type": "code",
   "execution_count": null,
   "metadata": {},
   "outputs": [],
   "source": [
    "# Iterate over each scenario\n",
    "for scenario in scenarios:\n",
    "    folder_path = os.path.join(data_dir, f'route_highway_epoch24_{scenario}_fi_ghost_cutin')\n",
    "    files_in_folder = os.listdir(folder_path)\n",
    "    print(f\"Files in folder {folder_path}: {files_in_folder}\")\n",
    "\n",
    "    # Read the route_highway.txt file\n",
    "    route_highway_txt_path = os.path.join(folder_path, 'route_highway.txt')\n",
    "\n",
    "    if os.path.exists(route_highway_txt_path):\n",
    "        route_highway_data = read_route_highway_txt(route_highway_txt_path)\n",
    "        route_highway_df = pd.DataFrame([route_highway_data])\n",
    "    else:\n",
    "        print(f\"route_highway.txt not found in {folder_path}\")\n",
    "        continue\n",
    "\n",
    "    # Initialize an empty dictionary to hold CSV data for each scenario\n",
    "    csv_data_dict = {}\n",
    "    # Read the CSV files (ctl, cvip, traj)\n",
    "    for csv_type in csvs:\n",
    "        matching_files = [f for f in files_in_folder if f.endswith(f'single_{csv_type}.csv')]\n",
    "        if matching_files:\n",
    "            csv_file_path = os.path.join(folder_path, matching_files[0])\n",
    "            csv_df = read_csv_file(csv_file_path)\n",
    "            csv_data_dict[csv_type] = csv_df\n",
    "        else:\n",
    "            print(f\"No file ending with 'single_{csv_type}.csv' found in {folder_path}\")\n",
    "\n",
    "    # Merge CSV dataframes on 'ts','agent_id' column\n",
    "    if 'ctl' in csv_data_dict:\n",
    "        merged_csv_df = csv_data_dict['ctl']\n",
    "        for csv_type in ['cvip', 'traj']:\n",
    "            if csv_type in csv_data_dict:\n",
    "                merged_csv_df = pd.merge(merged_csv_df, csv_data_dict[csv_type], on=['ts','agent_id'], how='left')\n",
    "\n",
    "        # Concatenate the route_highway data to match the length of merged CSV dataframe\n",
    "        full_df = pd.concat([merged_csv_df, pd.concat([route_highway_df]*len(merged_csv_df), ignore_index=True)], axis=1)\n",
    "        full_df['scenario'] = scenario\n",
    "        df_list.append(full_df)"
   ]
  },
  {
   "cell_type": "code",
   "execution_count": 6,
   "metadata": {},
   "outputs": [],
   "source": [
    "# Combine all scenario data into one dataframe\n",
    "if df_list:\n",
    "    final_df = pd.concat(df_list, ignore_index=True)\n",
    "else:\n",
    "    print(\"No valid dataframes were created.\")"
   ]
  },
  {
   "cell_type": "code",
   "execution_count": null,
   "metadata": {},
   "outputs": [],
   "source": [
    "final_df['scenario'].value_counts()"
   ]
  },
  {
   "cell_type": "code",
   "execution_count": null,
   "metadata": {},
   "outputs": [],
   "source": [
    "final_df.head()"
   ]
  },
  {
   "cell_type": "code",
   "execution_count": null,
   "metadata": {},
   "outputs": [],
   "source": [
    "final_df.columns"
   ]
  },
  {
   "cell_type": "code",
   "execution_count": 10,
   "metadata": {},
   "outputs": [],
   "source": [
    "final_df.to_csv('combined_df.csv', index=False)"
   ]
  }
 ],
 "metadata": {
  "kernelspec": {
   "display_name": "base",
   "language": "python",
   "name": "python3"
  },
  "language_info": {
   "codemirror_mode": {
    "name": "ipython",
    "version": 3
   },
   "file_extension": ".py",
   "mimetype": "text/x-python",
   "name": "python",
   "nbconvert_exporter": "python",
   "pygments_lexer": "ipython3",
   "version": "3.12.5"
  }
 },
 "nbformat": 4,
 "nbformat_minor": 2
}
