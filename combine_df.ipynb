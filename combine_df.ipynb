{
 "cells": [
  {
   "cell_type": "code",
   "execution_count": 1,
   "metadata": {},
   "outputs": [],
   "source": [
    "import os\n",
    "import json\n",
    "import pandas as pd"
   ]
  },
  {
   "cell_type": "code",
   "execution_count": 2,
   "metadata": {},
   "outputs": [],
   "source": [
    "# Set the base directory for the simulation results\n",
    "data_dir = os.path.join(os.getcwd(), 'simulation_results')\n",
    "\n",
    "# Define the list of scenarios and CSV types\n",
    "scenarios = ['clear-night', 'clear-noon', 'clear-sunset', 'haze-noon', 'haze-sunset', 'rain-noon']\n",
    "csvs = ['ctl', 'cvip', 'traj']"
   ]
  },
  {
   "cell_type": "code",
   "execution_count": 3,
   "metadata": {},
   "outputs": [],
   "source": [
    "# Function to read the route_highway.txt file\n",
    "def read_route_highway_txt(file_path):\n",
    "    with open(file_path, 'r') as file:\n",
    "        data = json.load(file)\n",
    "        # Extract necessary fields from JSON-like data\n",
    "        return {\n",
    "            'duration_game': data['_checkpoint']['records'][0]['meta']['duration_game'],\n",
    "            'duration_system': data['_checkpoint']['records'][0]['meta']['duration_system'],\n",
    "            'route_length': data['_checkpoint']['records'][0]['meta']['route_length'],\n",
    "            'score_composed': data['_checkpoint']['records'][0]['scores']['score_composed'],\n",
    "            'score_penalty': data['_checkpoint']['records'][0]['scores']['score_penalty'],\n",
    "            'score_route': data['_checkpoint']['records'][0]['scores']['score_route'],\n",
    "            'status': data['_checkpoint']['records'][0]['status']\n",
    "        }\n",
    "\n",
    "# Function to read CSV files\n",
    "def read_csv_file(file_path):\n",
    "    return pd.read_csv(file_path)"
   ]
  },
  {
   "cell_type": "code",
   "execution_count": 4,
   "metadata": {},
   "outputs": [],
   "source": [
    "df_list = []"
   ]
  },
  {
   "cell_type": "code",
   "execution_count": 7,
   "metadata": {},
   "outputs": [
    {
     "name": "stdout",
     "output_type": "stream",
     "text": [
      "Files in folder c:\\Users\\cindy\\Desktop\\Mini-Project-1-Safety-Analysis-of-Autonomous-Vehicles\\simulation_results\\route_highway_epoch24_clear-night_fi_ghost_cutin: ['routes_fi_route_highway-0910_142625-data_fi_ghost_cutin-single_ctl.csv', 'routes_fi_route_highway-0910_142625-data_fi_ghost_cutin-single_cvip.csv', 'routes_fi_route_highway-0910_142625-data_fi_ghost_cutin-single_traj.csv', 'route_highway.txt', 'run.done']\n",
      "Files in folder c:\\Users\\cindy\\Desktop\\Mini-Project-1-Safety-Analysis-of-Autonomous-Vehicles\\simulation_results\\route_highway_epoch24_clear-noon_fi_ghost_cutin: ['routes_fi_route_highway-0910_142006-data_fi_ghost_cutin-single_ctl.csv', 'routes_fi_route_highway-0910_142006-data_fi_ghost_cutin-single_cvip.csv', 'routes_fi_route_highway-0910_142006-data_fi_ghost_cutin-single_traj.csv', 'route_highway.txt', 'run.done']\n",
      "Files in folder c:\\Users\\cindy\\Desktop\\Mini-Project-1-Safety-Analysis-of-Autonomous-Vehicles\\simulation_results\\route_highway_epoch24_clear-sunset_fi_ghost_cutin: ['routes_fi_route_highway-0910_142302-data_fi_ghost_cutin-single_ctl.csv', 'routes_fi_route_highway-0910_142302-data_fi_ghost_cutin-single_cvip.csv', 'routes_fi_route_highway-0910_142302-data_fi_ghost_cutin-single_traj.csv', 'route_highway.txt', 'run.done']\n",
      "Files in folder c:\\Users\\cindy\\Desktop\\Mini-Project-1-Safety-Analysis-of-Autonomous-Vehicles\\simulation_results\\route_highway_epoch24_haze-noon_fi_ghost_cutin: ['routes_fi_route_highway-0910_142410-data_fi_ghost_cutin-single_ctl.csv', 'routes_fi_route_highway-0910_142410-data_fi_ghost_cutin-single_cvip.csv', 'routes_fi_route_highway-0910_142410-data_fi_ghost_cutin-single_traj.csv', 'route_highway.txt', 'run.done']\n",
      "Files in folder c:\\Users\\cindy\\Desktop\\Mini-Project-1-Safety-Analysis-of-Autonomous-Vehicles\\simulation_results\\route_highway_epoch24_haze-sunset_fi_ghost_cutin: ['routes_fi_route_highway-0910_142516-data_fi_ghost_cutin-single_ctl.csv', 'routes_fi_route_highway-0910_142516-data_fi_ghost_cutin-single_cvip.csv', 'routes_fi_route_highway-0910_142516-data_fi_ghost_cutin-single_traj.csv', 'route_highway.txt', 'run.done']\n",
      "Files in folder c:\\Users\\cindy\\Desktop\\Mini-Project-1-Safety-Analysis-of-Autonomous-Vehicles\\simulation_results\\route_highway_epoch24_rain-noon_fi_ghost_cutin: ['routes_fi_route_highway-0910_142218-data_fi_ghost_cutin-single_ctl.csv', 'routes_fi_route_highway-0910_142218-data_fi_ghost_cutin-single_cvip.csv', 'routes_fi_route_highway-0910_142218-data_fi_ghost_cutin-single_traj.csv', 'route_highway.txt', 'run.done']\n"
     ]
    }
   ],
   "source": [
    "# Iterate over each scenario\n",
    "for scenario in scenarios:\n",
    "    folder_path = os.path.join(data_dir, f'route_highway_epoch24_{scenario}_fi_ghost_cutin')\n",
    "    files_in_folder = os.listdir(folder_path)\n",
    "    print(f\"Files in folder {folder_path}: {files_in_folder}\")\n",
    "\n",
    "    # Read the route_highway.txt file\n",
    "    route_highway_txt_path = os.path.join(folder_path, 'route_highway.txt')\n",
    "\n",
    "    if os.path.exists(route_highway_txt_path):\n",
    "        route_highway_data = read_route_highway_txt(route_highway_txt_path)\n",
    "        route_highway_df = pd.DataFrame([route_highway_data])\n",
    "    else:\n",
    "        print(f\"route_highway.txt not found in {folder_path}\")\n",
    "        continue\n",
    "\n",
    "    # Initialize an empty dictionary to hold CSV data for each scenario\n",
    "    csv_data_dict = {}\n",
    "    # Read the CSV files (ctl, cvip, traj)\n",
    "    for csv_type in csvs:\n",
    "        matching_files = [f for f in files_in_folder if f.endswith(f'single_{csv_type}.csv')]\n",
    "        if matching_files:\n",
    "            csv_file_path = os.path.join(folder_path, matching_files[0])\n",
    "            csv_df = read_csv_file(csv_file_path)\n",
    "            csv_data_dict[csv_type] = csv_df\n",
    "        else:\n",
    "            print(f\"No file ending with 'single_{csv_type}.csv' found in {folder_path}\")\n",
    "\n",
    "    # Merge CSV dataframes on 'ts','agent_id' column\n",
    "    if 'ctl' in csv_data_dict:\n",
    "        merged_csv_df = csv_data_dict['ctl']\n",
    "        for csv_type in ['cvip', 'traj']:\n",
    "            if csv_type in csv_data_dict:\n",
    "                merged_csv_df = pd.merge(merged_csv_df, csv_data_dict[csv_type], on=['ts','agent_id'], how='left')\n",
    "\n",
    "        # Concatenate the route_highway data to match the length of merged CSV dataframe\n",
    "        full_df = pd.concat([merged_csv_df, pd.concat([route_highway_df]*len(merged_csv_df), ignore_index=True)], axis=1)\n",
    "        full_df['scenario'] = scenario\n",
    "        df_list.append(full_df)"
   ]
  },
  {
   "cell_type": "code",
   "execution_count": 10,
   "metadata": {},
   "outputs": [],
   "source": [
    "# Combine all scenario data into one dataframe\n",
    "if df_list:\n",
    "    final_df = pd.concat(df_list, ignore_index=True)\n",
    "else:\n",
    "    print(\"No valid dataframes were created.\")"
   ]
  },
  {
   "cell_type": "code",
   "execution_count": 11,
   "metadata": {},
   "outputs": [
    {
     "data": {
      "text/plain": [
       "scenario\n",
       "clear-night     1\n",
       "clear-noon      1\n",
       "clear-sunset    1\n",
       "haze-noon       1\n",
       "haze-sunset     1\n",
       "rain-noon       1\n",
       "Name: count, dtype: int64"
      ]
     },
     "execution_count": 11,
     "metadata": {},
     "output_type": "execute_result"
    }
   ],
   "source": [
    "final_df['scenario'].value_counts()"
   ]
  },
  {
   "cell_type": "code",
   "execution_count": 12,
   "metadata": {},
   "outputs": [
    {
     "data": {
      "text/html": [
       "<div>\n",
       "<style scoped>\n",
       "    .dataframe tbody tr th:only-of-type {\n",
       "        vertical-align: middle;\n",
       "    }\n",
       "\n",
       "    .dataframe tbody tr th {\n",
       "        vertical-align: top;\n",
       "    }\n",
       "\n",
       "    .dataframe thead th {\n",
       "        text-align: right;\n",
       "    }\n",
       "</style>\n",
       "<table border=\"1\" class=\"dataframe\">\n",
       "  <thead>\n",
       "    <tr style=\"text-align: right;\">\n",
       "      <th></th>\n",
       "      <th>duration_game</th>\n",
       "      <th>duration_system</th>\n",
       "      <th>route_length</th>\n",
       "      <th>score_composed</th>\n",
       "      <th>score_penalty</th>\n",
       "      <th>score_route</th>\n",
       "      <th>status</th>\n",
       "      <th>scenario</th>\n",
       "    </tr>\n",
       "  </thead>\n",
       "  <tbody>\n",
       "    <tr>\n",
       "      <th>0</th>\n",
       "      <td>20.500</td>\n",
       "      <td>60.151987</td>\n",
       "      <td>131.560126</td>\n",
       "      <td>100.0</td>\n",
       "      <td>1.0</td>\n",
       "      <td>100.0</td>\n",
       "      <td>Completed</td>\n",
       "      <td>clear-night</td>\n",
       "    </tr>\n",
       "    <tr>\n",
       "      <th>1</th>\n",
       "      <td>18.800</td>\n",
       "      <td>48.055337</td>\n",
       "      <td>131.560126</td>\n",
       "      <td>100.0</td>\n",
       "      <td>1.0</td>\n",
       "      <td>100.0</td>\n",
       "      <td>Completed</td>\n",
       "      <td>clear-noon</td>\n",
       "    </tr>\n",
       "    <tr>\n",
       "      <th>2</th>\n",
       "      <td>18.925</td>\n",
       "      <td>51.044968</td>\n",
       "      <td>131.560126</td>\n",
       "      <td>100.0</td>\n",
       "      <td>1.0</td>\n",
       "      <td>100.0</td>\n",
       "      <td>Completed</td>\n",
       "      <td>clear-sunset</td>\n",
       "    </tr>\n",
       "    <tr>\n",
       "      <th>3</th>\n",
       "      <td>18.825</td>\n",
       "      <td>49.457878</td>\n",
       "      <td>131.560126</td>\n",
       "      <td>100.0</td>\n",
       "      <td>1.0</td>\n",
       "      <td>100.0</td>\n",
       "      <td>Completed</td>\n",
       "      <td>haze-noon</td>\n",
       "    </tr>\n",
       "    <tr>\n",
       "      <th>4</th>\n",
       "      <td>19.075</td>\n",
       "      <td>52.689376</td>\n",
       "      <td>131.560126</td>\n",
       "      <td>100.0</td>\n",
       "      <td>1.0</td>\n",
       "      <td>100.0</td>\n",
       "      <td>Completed</td>\n",
       "      <td>haze-sunset</td>\n",
       "    </tr>\n",
       "  </tbody>\n",
       "</table>\n",
       "</div>"
      ],
      "text/plain": [
       "   duration_game  duration_system  route_length  score_composed  \\\n",
       "0         20.500        60.151987    131.560126           100.0   \n",
       "1         18.800        48.055337    131.560126           100.0   \n",
       "2         18.925        51.044968    131.560126           100.0   \n",
       "3         18.825        49.457878    131.560126           100.0   \n",
       "4         19.075        52.689376    131.560126           100.0   \n",
       "\n",
       "   score_penalty  score_route     status      scenario  \n",
       "0            1.0        100.0  Completed   clear-night  \n",
       "1            1.0        100.0  Completed    clear-noon  \n",
       "2            1.0        100.0  Completed  clear-sunset  \n",
       "3            1.0        100.0  Completed     haze-noon  \n",
       "4            1.0        100.0  Completed   haze-sunset  "
      ]
     },
     "execution_count": 12,
     "metadata": {},
     "output_type": "execute_result"
    }
   ],
   "source": [
    "final_df.head()"
   ]
  },
  {
   "cell_type": "code",
   "execution_count": 11,
   "metadata": {},
   "outputs": [
    {
     "data": {
      "text/plain": [
       "Index(['ts', 'agent_id', 'throttle', 'steer', 'brake', 'cvip', 'cvip_x',\n",
       "       'cvip_y', 'cvip_z', 'x', 'y', 'z', 'v', 'duration_game',\n",
       "       'duration_system', 'route_length', 'score_composed', 'score_penalty',\n",
       "       'score_route', 'status', 'scenario'],\n",
       "      dtype='object')"
      ]
     },
     "execution_count": 11,
     "metadata": {},
     "output_type": "execute_result"
    }
   ],
   "source": [
    "final_df.columns"
   ]
  }
 ],
 "metadata": {
  "kernelspec": {
   "display_name": "base",
   "language": "python",
   "name": "python3"
  },
  "language_info": {
   "codemirror_mode": {
    "name": "ipython",
    "version": 3
   },
   "file_extension": ".py",
   "mimetype": "text/x-python",
   "name": "python",
   "nbconvert_exporter": "python",
   "pygments_lexer": "ipython3",
   "version": "3.12.5"
  }
 },
 "nbformat": 4,
 "nbformat_minor": 2
}
